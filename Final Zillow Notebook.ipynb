{
 "cells": [
  {
   "cell_type": "markdown",
   "metadata": {},
   "source": [
    "![](Zillow.jpg)"
   ]
  },
  {
   "cell_type": "markdown",
   "metadata": {},
   "source": [
    "# Zillow Regression Project\n",
    "## Natasha Rivers\n",
    "### June 15, 2021"
   ]
  },
  {
   "cell_type": "markdown",
   "metadata": {},
   "source": [
    "<hr style=\"border:2px solid black\"> </hr>"
   ]
  },
  {
   "cell_type": "markdown",
   "metadata": {},
   "source": [
    "### Imports"
   ]
  },
  {
   "cell_type": "code",
   "execution_count": 1,
   "metadata": {},
   "outputs": [],
   "source": [
    "from env import host, user, password\n",
    "import acquire\n",
    "import prepare\n",
    "import wrangle"
   ]
  },
  {
   "cell_type": "code",
   "execution_count": 2,
   "metadata": {},
   "outputs": [],
   "source": [
    "import matplotlib.pyplot as plt\n",
    "import pandas as pd\n",
    "import seaborn as sns\n",
    "import numpy as np\n",
    "import os\n",
    "from scipy import stats\n",
    "\n",
    "import warnings\n",
    "warnings.filterwarnings(\"ignore\")"
   ]
  },
  {
   "cell_type": "code",
   "execution_count": 3,
   "metadata": {},
   "outputs": [],
   "source": [
    "from sklearn.feature_selection import RFE, SelectKBest, f_regression\n",
    "from sklearn.linear_model import LinearRegression, TweedieRegressor, LassoLars\n",
    "from sklearn.preprocessing import MinMaxScaler\n",
    "from sklearn.metrics import mean_squared_error, explained_variance_score"
   ]
  },
  {
   "cell_type": "markdown",
   "metadata": {},
   "source": [
    "<hr style=\"border:3px solid black\"> </hr>"
   ]
  },
  {
   "cell_type": "markdown",
   "metadata": {},
   "source": [
    "# Acquire"
   ]
  },
  {
   "cell_type": "code",
   "execution_count": 4,
   "metadata": {},
   "outputs": [],
   "source": [
    "def get_connection(db_name):\n",
    "    '''\n",
    "    This function uses my info from my env file to\n",
    "    create a connection url to access the Codeup db.\n",
    "    '''\n",
    "    from env import host, user, password\n",
    "    return f'mysql+pymysql://{user}:{password}@{host}/{db_name}'"
   ]
  },
  {
   "cell_type": "code",
   "execution_count": 5,
   "metadata": {},
   "outputs": [],
   "source": [
    "def get_zillow():\n",
    "    '''\n",
    "    This function reads in the Zillow data from the Codeup db\n",
    "    with properties_2017, predictions_2017 and propertylandusetype tables joined\n",
    "    returns: a pandas DataFrame \n",
    "    '''\n",
    "    \n",
    "    zp_query = '''\n",
    "    SELECT calculatedfinishedsquarefeet, bedroomcnt, bathroomcnt, taxvaluedollarcnt, taxamount, yearbuilt, fips, properties_2017.parcelid\n",
    "    FROM properties_2017\n",
    "    JOIN predictions_2017 ON properties_2017.parcelid = predictions_2017.parcelid\n",
    "    JOIN propertylandusetype ON properties_2017.propertylandusetypeid= propertylandusetype.propertylandusetypeid\n",
    "    WHERE predictions_2017.transactiondate BETWEEN '2017-05-01' AND '2017-08-31' AND properties_2017.propertylandusetypeid IN (260, 261, 262, 263, 264, 265, 268, 273, 274, 275, 276, 279);\n",
    "    '''\n",
    "    return pd.read_sql(zp_query, get_connection('zillow'))"
   ]
  },
  {
   "cell_type": "code",
   "execution_count": 6,
   "metadata": {},
   "outputs": [],
   "source": [
    "df= acquire.get_zillow()"
   ]
  },
  {
   "cell_type": "code",
   "execution_count": 7,
   "metadata": {},
   "outputs": [],
   "source": [
    "#function saved to acquire that gets zillow info and saves as csv to make future work faster\n",
    "def get_zillow_file():\n",
    "    if os.path.isfile('zillow.csv'):\n",
    "        df = pd.read_csv('zillow.csv', index_col=0)\n",
    "    \n",
    "    else:\n",
    "        df = get_zillow()\n",
    "        df.to_csv('zillow.csv')\n",
    "    \n",
    "    return df"
   ]
  },
  {
   "cell_type": "code",
   "execution_count": 8,
   "metadata": {},
   "outputs": [],
   "source": [
    "df = acquire.get_zillow_file()"
   ]
  },
  {
   "cell_type": "code",
   "execution_count": 9,
   "metadata": {},
   "outputs": [
    {
     "data": {
      "text/html": [
       "<div>\n",
       "<style scoped>\n",
       "    .dataframe tbody tr th:only-of-type {\n",
       "        vertical-align: middle;\n",
       "    }\n",
       "\n",
       "    .dataframe tbody tr th {\n",
       "        vertical-align: top;\n",
       "    }\n",
       "\n",
       "    .dataframe thead th {\n",
       "        text-align: right;\n",
       "    }\n",
       "</style>\n",
       "<table border=\"1\" class=\"dataframe\">\n",
       "  <thead>\n",
       "    <tr style=\"text-align: right;\">\n",
       "      <th></th>\n",
       "      <th>calculatedfinishedsquarefeet</th>\n",
       "      <th>bedroomcnt</th>\n",
       "      <th>bathroomcnt</th>\n",
       "      <th>taxvaluedollarcnt</th>\n",
       "      <th>taxamount</th>\n",
       "      <th>yearbuilt</th>\n",
       "      <th>fips</th>\n",
       "      <th>parcelid</th>\n",
       "    </tr>\n",
       "  </thead>\n",
       "  <tbody>\n",
       "    <tr>\n",
       "      <th>0</th>\n",
       "      <td>1316.0</td>\n",
       "      <td>3.0</td>\n",
       "      <td>2.0</td>\n",
       "      <td>205123.0</td>\n",
       "      <td>2627.48</td>\n",
       "      <td>1923.0</td>\n",
       "      <td>6037.0</td>\n",
       "      <td>11721753</td>\n",
       "    </tr>\n",
       "    <tr>\n",
       "      <th>1</th>\n",
       "      <td>1458.0</td>\n",
       "      <td>3.0</td>\n",
       "      <td>2.0</td>\n",
       "      <td>136104.0</td>\n",
       "      <td>2319.90</td>\n",
       "      <td>1970.0</td>\n",
       "      <td>6037.0</td>\n",
       "      <td>11289917</td>\n",
       "    </tr>\n",
       "    <tr>\n",
       "      <th>2</th>\n",
       "      <td>1421.0</td>\n",
       "      <td>2.0</td>\n",
       "      <td>1.0</td>\n",
       "      <td>35606.0</td>\n",
       "      <td>543.69</td>\n",
       "      <td>1911.0</td>\n",
       "      <td>6037.0</td>\n",
       "      <td>11705026</td>\n",
       "    </tr>\n",
       "    <tr>\n",
       "      <th>3</th>\n",
       "      <td>2541.0</td>\n",
       "      <td>4.0</td>\n",
       "      <td>3.0</td>\n",
       "      <td>880456.0</td>\n",
       "      <td>9819.72</td>\n",
       "      <td>2003.0</td>\n",
       "      <td>6059.0</td>\n",
       "      <td>14269464</td>\n",
       "    </tr>\n",
       "    <tr>\n",
       "      <th>4</th>\n",
       "      <td>1491.0</td>\n",
       "      <td>3.0</td>\n",
       "      <td>2.0</td>\n",
       "      <td>107110.0</td>\n",
       "      <td>1399.27</td>\n",
       "      <td>1955.0</td>\n",
       "      <td>6037.0</td>\n",
       "      <td>11446756</td>\n",
       "    </tr>\n",
       "  </tbody>\n",
       "</table>\n",
       "</div>"
      ],
      "text/plain": [
       "   calculatedfinishedsquarefeet  bedroomcnt  bathroomcnt  taxvaluedollarcnt  \\\n",
       "0                        1316.0         3.0          2.0           205123.0   \n",
       "1                        1458.0         3.0          2.0           136104.0   \n",
       "2                        1421.0         2.0          1.0            35606.0   \n",
       "3                        2541.0         4.0          3.0           880456.0   \n",
       "4                        1491.0         3.0          2.0           107110.0   \n",
       "\n",
       "   taxamount  yearbuilt    fips  parcelid  \n",
       "0    2627.48     1923.0  6037.0  11721753  \n",
       "1    2319.90     1970.0  6037.0  11289917  \n",
       "2     543.69     1911.0  6037.0  11705026  \n",
       "3    9819.72     2003.0  6059.0  14269464  \n",
       "4    1399.27     1955.0  6037.0  11446756  "
      ]
     },
     "execution_count": 9,
     "metadata": {},
     "output_type": "execute_result"
    }
   ],
   "source": [
    "df.head()"
   ]
  },
  {
   "cell_type": "code",
   "execution_count": 10,
   "metadata": {},
   "outputs": [
    {
     "name": "stdout",
     "output_type": "stream",
     "text": [
      "<class 'pandas.core.frame.DataFrame'>\n",
      "Int64Index: 28418 entries, 0 to 28417\n",
      "Data columns (total 8 columns):\n",
      " #   Column                        Non-Null Count  Dtype  \n",
      "---  ------                        --------------  -----  \n",
      " 0   calculatedfinishedsquarefeet  28345 non-null  float64\n",
      " 1   bedroomcnt                    28418 non-null  float64\n",
      " 2   bathroomcnt                   28418 non-null  float64\n",
      " 3   taxvaluedollarcnt             28417 non-null  float64\n",
      " 4   taxamount                     28417 non-null  float64\n",
      " 5   yearbuilt                     28322 non-null  float64\n",
      " 6   fips                          28418 non-null  float64\n",
      " 7   parcelid                      28418 non-null  int64  \n",
      "dtypes: float64(7), int64(1)\n",
      "memory usage: 2.0 MB\n"
     ]
    }
   ],
   "source": [
    "df.info()"
   ]
  },
  {
   "cell_type": "markdown",
   "metadata": {},
   "source": [
    "### Takeaways from Acquire:\n",
    "- based somewhat on personal interpretation, different \"propertylandusetypeid\" may be used. \n",
    "    - ended up settling on 11 ids\n",
    "- creating a function to save get_zillow into a csv will drastically reduce time to import\n",
    "- 28,418 entries\n",
    "- 8 different columns\n",
    "    - appear to have some nulls (further explore this in prepare\n",
    "    - all numeric datatypes (float64 & int64)"
   ]
  },
  {
   "cell_type": "markdown",
   "metadata": {},
   "source": [
    "<hr style=\"border:3px solid black\"> </hr>"
   ]
  },
  {
   "cell_type": "markdown",
   "metadata": {},
   "source": [
    "# Prepare"
   ]
  },
  {
   "cell_type": "code",
   "execution_count": 11,
   "metadata": {},
   "outputs": [
    {
     "data": {
      "text/html": [
       "<div>\n",
       "<style scoped>\n",
       "    .dataframe tbody tr th:only-of-type {\n",
       "        vertical-align: middle;\n",
       "    }\n",
       "\n",
       "    .dataframe tbody tr th {\n",
       "        vertical-align: top;\n",
       "    }\n",
       "\n",
       "    .dataframe thead th {\n",
       "        text-align: right;\n",
       "    }\n",
       "</style>\n",
       "<table border=\"1\" class=\"dataframe\">\n",
       "  <thead>\n",
       "    <tr style=\"text-align: right;\">\n",
       "      <th></th>\n",
       "      <th>calculatedfinishedsquarefeet</th>\n",
       "      <th>bedroomcnt</th>\n",
       "      <th>bathroomcnt</th>\n",
       "      <th>taxvaluedollarcnt</th>\n",
       "      <th>taxamount</th>\n",
       "      <th>yearbuilt</th>\n",
       "      <th>fips</th>\n",
       "      <th>parcelid</th>\n",
       "    </tr>\n",
       "  </thead>\n",
       "  <tbody>\n",
       "    <tr>\n",
       "      <th>0</th>\n",
       "      <td>1316.0</td>\n",
       "      <td>3.0</td>\n",
       "      <td>2.0</td>\n",
       "      <td>205123.0</td>\n",
       "      <td>2627.48</td>\n",
       "      <td>1923.0</td>\n",
       "      <td>6037.0</td>\n",
       "      <td>11721753</td>\n",
       "    </tr>\n",
       "    <tr>\n",
       "      <th>1</th>\n",
       "      <td>1458.0</td>\n",
       "      <td>3.0</td>\n",
       "      <td>2.0</td>\n",
       "      <td>136104.0</td>\n",
       "      <td>2319.90</td>\n",
       "      <td>1970.0</td>\n",
       "      <td>6037.0</td>\n",
       "      <td>11289917</td>\n",
       "    </tr>\n",
       "    <tr>\n",
       "      <th>2</th>\n",
       "      <td>1421.0</td>\n",
       "      <td>2.0</td>\n",
       "      <td>1.0</td>\n",
       "      <td>35606.0</td>\n",
       "      <td>543.69</td>\n",
       "      <td>1911.0</td>\n",
       "      <td>6037.0</td>\n",
       "      <td>11705026</td>\n",
       "    </tr>\n",
       "    <tr>\n",
       "      <th>3</th>\n",
       "      <td>2541.0</td>\n",
       "      <td>4.0</td>\n",
       "      <td>3.0</td>\n",
       "      <td>880456.0</td>\n",
       "      <td>9819.72</td>\n",
       "      <td>2003.0</td>\n",
       "      <td>6059.0</td>\n",
       "      <td>14269464</td>\n",
       "    </tr>\n",
       "    <tr>\n",
       "      <th>4</th>\n",
       "      <td>1491.0</td>\n",
       "      <td>3.0</td>\n",
       "      <td>2.0</td>\n",
       "      <td>107110.0</td>\n",
       "      <td>1399.27</td>\n",
       "      <td>1955.0</td>\n",
       "      <td>6037.0</td>\n",
       "      <td>11446756</td>\n",
       "    </tr>\n",
       "  </tbody>\n",
       "</table>\n",
       "</div>"
      ],
      "text/plain": [
       "   calculatedfinishedsquarefeet  bedroomcnt  bathroomcnt  taxvaluedollarcnt  \\\n",
       "0                        1316.0         3.0          2.0           205123.0   \n",
       "1                        1458.0         3.0          2.0           136104.0   \n",
       "2                        1421.0         2.0          1.0            35606.0   \n",
       "3                        2541.0         4.0          3.0           880456.0   \n",
       "4                        1491.0         3.0          2.0           107110.0   \n",
       "\n",
       "   taxamount  yearbuilt    fips  parcelid  \n",
       "0    2627.48     1923.0  6037.0  11721753  \n",
       "1    2319.90     1970.0  6037.0  11289917  \n",
       "2     543.69     1911.0  6037.0  11705026  \n",
       "3    9819.72     2003.0  6059.0  14269464  \n",
       "4    1399.27     1955.0  6037.0  11446756  "
      ]
     },
     "execution_count": 11,
     "metadata": {},
     "output_type": "execute_result"
    }
   ],
   "source": [
    "df.head()"
   ]
  },
  {
   "cell_type": "code",
   "execution_count": 12,
   "metadata": {},
   "outputs": [],
   "source": [
    "#calculate tax rate\n",
    "df['tax_rate'] =df['taxamount']/  df['taxvaluedollarcnt']"
   ]
  },
  {
   "cell_type": "code",
   "execution_count": 13,
   "metadata": {},
   "outputs": [],
   "source": [
    "#rename columns to make more legible\n",
    "df = df.rename(columns={\"calculatedfinishedsquarefeet\": \"total_sqft\", \"bedroomcnt\": \"bedrooms\", \"bathroomcnt\": \"bathrooms\", \"taxvaluedollarcnt\": \"value_assessed\", \"taxamount\": \"tax_amount\", \"yearbuilt\": \"year_built\", \"fips\": \"county_code\" })"
   ]
  },
  {
   "cell_type": "code",
   "execution_count": 14,
   "metadata": {},
   "outputs": [],
   "source": [
    "#check for duplicates\n",
    "df.drop_duplicates(inplace=True)"
   ]
  },
  {
   "cell_type": "code",
   "execution_count": 15,
   "metadata": {},
   "outputs": [
    {
     "name": "stdout",
     "output_type": "stream",
     "text": [
      "<class 'pandas.core.frame.DataFrame'>\n",
      "Int64Index: 28392 entries, 0 to 28417\n",
      "Data columns (total 9 columns):\n",
      " #   Column          Non-Null Count  Dtype  \n",
      "---  ------          --------------  -----  \n",
      " 0   total_sqft      28321 non-null  float64\n",
      " 1   bedrooms        28392 non-null  float64\n",
      " 2   bathrooms       28392 non-null  float64\n",
      " 3   value_assessed  28391 non-null  float64\n",
      " 4   tax_amount      28391 non-null  float64\n",
      " 5   year_built      28298 non-null  float64\n",
      " 6   county_code     28392 non-null  float64\n",
      " 7   parcelid        28392 non-null  int64  \n",
      " 8   tax_rate        28390 non-null  float64\n",
      "dtypes: float64(8), int64(1)\n",
      "memory usage: 2.2 MB\n"
     ]
    }
   ],
   "source": [
    "#28,392 entries (removed 26 duplicates)\n",
    "df.info()"
   ]
  },
  {
   "cell_type": "code",
   "execution_count": 16,
   "metadata": {},
   "outputs": [],
   "source": [
    "# replace nan values (resulting in no loss of entries)\n",
    "df = df.replace(r'^\\s*$', np.nan, regex=True)"
   ]
  },
  {
   "cell_type": "code",
   "execution_count": 17,
   "metadata": {},
   "outputs": [
    {
     "data": {
      "text/plain": [
       "total_sqft        71\n",
       "bedrooms           0\n",
       "bathrooms          0\n",
       "value_assessed     1\n",
       "tax_amount         1\n",
       "year_built        94\n",
       "county_code        0\n",
       "parcelid           0\n",
       "tax_rate           2\n",
       "dtype: int64"
      ]
     },
     "execution_count": 17,
     "metadata": {},
     "output_type": "execute_result"
    }
   ],
   "source": [
    "#check for null values\n",
    "df.isnull().sum()"
   ]
  },
  {
   "cell_type": "code",
   "execution_count": 18,
   "metadata": {},
   "outputs": [],
   "source": [
    "#drop na values \n",
    "df = df.dropna()"
   ]
  },
  {
   "cell_type": "code",
   "execution_count": 19,
   "metadata": {},
   "outputs": [
    {
     "name": "stdout",
     "output_type": "stream",
     "text": [
      "<class 'pandas.core.frame.DataFrame'>\n",
      "Int64Index: 28292 entries, 0 to 28417\n",
      "Data columns (total 9 columns):\n",
      " #   Column          Non-Null Count  Dtype  \n",
      "---  ------          --------------  -----  \n",
      " 0   total_sqft      28292 non-null  float64\n",
      " 1   bedrooms        28292 non-null  float64\n",
      " 2   bathrooms       28292 non-null  float64\n",
      " 3   value_assessed  28292 non-null  float64\n",
      " 4   tax_amount      28292 non-null  float64\n",
      " 5   year_built      28292 non-null  float64\n",
      " 6   county_code     28292 non-null  float64\n",
      " 7   parcelid        28292 non-null  int64  \n",
      " 8   tax_rate        28292 non-null  float64\n",
      "dtypes: float64(8), int64(1)\n",
      "memory usage: 2.2 MB\n"
     ]
    }
   ],
   "source": [
    "#after dropping na- 28292 entries left (100 dropped)\n",
    "df.info()"
   ]
  },
  {
   "cell_type": "code",
   "execution_count": 20,
   "metadata": {},
   "outputs": [
    {
     "data": {
      "text/plain": [
       "total_sqft        0\n",
       "bedrooms          0\n",
       "bathrooms         0\n",
       "value_assessed    0\n",
       "tax_amount        0\n",
       "year_built        0\n",
       "county_code       0\n",
       "parcelid          0\n",
       "tax_rate          0\n",
       "dtype: int64"
      ]
     },
     "execution_count": 20,
     "metadata": {},
     "output_type": "execute_result"
    }
   ],
   "source": [
    "#confirm all nulls were dropped\n",
    "df.isnull().sum()"
   ]
  },
  {
   "cell_type": "code",
   "execution_count": 21,
   "metadata": {},
   "outputs": [
    {
     "data": {
      "text/html": [
       "<div>\n",
       "<style scoped>\n",
       "    .dataframe tbody tr th:only-of-type {\n",
       "        vertical-align: middle;\n",
       "    }\n",
       "\n",
       "    .dataframe tbody tr th {\n",
       "        vertical-align: top;\n",
       "    }\n",
       "\n",
       "    .dataframe thead th {\n",
       "        text-align: right;\n",
       "    }\n",
       "</style>\n",
       "<table border=\"1\" class=\"dataframe\">\n",
       "  <thead>\n",
       "    <tr style=\"text-align: right;\">\n",
       "      <th></th>\n",
       "      <th>total_sqft</th>\n",
       "      <th>bedrooms</th>\n",
       "      <th>bathrooms</th>\n",
       "      <th>value_assessed</th>\n",
       "      <th>tax_amount</th>\n",
       "      <th>year_built</th>\n",
       "      <th>county_code</th>\n",
       "      <th>parcelid</th>\n",
       "      <th>tax_rate</th>\n",
       "    </tr>\n",
       "  </thead>\n",
       "  <tbody>\n",
       "    <tr>\n",
       "      <th>total_sqft</th>\n",
       "      <td>1.000000</td>\n",
       "      <td>0.610905</td>\n",
       "      <td>0.829911</td>\n",
       "      <td>0.602301</td>\n",
       "      <td>0.603723</td>\n",
       "      <td>0.443316</td>\n",
       "      <td>0.086316</td>\n",
       "      <td>0.056894</td>\n",
       "      <td>-0.073670</td>\n",
       "    </tr>\n",
       "    <tr>\n",
       "      <th>bedrooms</th>\n",
       "      <td>0.610905</td>\n",
       "      <td>1.000000</td>\n",
       "      <td>0.642580</td>\n",
       "      <td>0.280387</td>\n",
       "      <td>0.282984</td>\n",
       "      <td>0.375784</td>\n",
       "      <td>0.106292</td>\n",
       "      <td>0.063302</td>\n",
       "      <td>-0.046836</td>\n",
       "    </tr>\n",
       "    <tr>\n",
       "      <th>bathrooms</th>\n",
       "      <td>0.829911</td>\n",
       "      <td>0.642580</td>\n",
       "      <td>1.000000</td>\n",
       "      <td>0.524876</td>\n",
       "      <td>0.526300</td>\n",
       "      <td>0.518885</td>\n",
       "      <td>0.091468</td>\n",
       "      <td>0.059484</td>\n",
       "      <td>-0.073934</td>\n",
       "    </tr>\n",
       "    <tr>\n",
       "      <th>value_assessed</th>\n",
       "      <td>0.602301</td>\n",
       "      <td>0.280387</td>\n",
       "      <td>0.524876</td>\n",
       "      <td>1.000000</td>\n",
       "      <td>0.989748</td>\n",
       "      <td>0.179530</td>\n",
       "      <td>0.009475</td>\n",
       "      <td>0.016125</td>\n",
       "      <td>-0.119278</td>\n",
       "    </tr>\n",
       "    <tr>\n",
       "      <th>tax_amount</th>\n",
       "      <td>0.603723</td>\n",
       "      <td>0.282984</td>\n",
       "      <td>0.526300</td>\n",
       "      <td>0.989748</td>\n",
       "      <td>1.000000</td>\n",
       "      <td>0.184445</td>\n",
       "      <td>-0.017190</td>\n",
       "      <td>0.005764</td>\n",
       "      <td>-0.066623</td>\n",
       "    </tr>\n",
       "    <tr>\n",
       "      <th>year_built</th>\n",
       "      <td>0.443316</td>\n",
       "      <td>0.375784</td>\n",
       "      <td>0.518885</td>\n",
       "      <td>0.179530</td>\n",
       "      <td>0.184445</td>\n",
       "      <td>1.000000</td>\n",
       "      <td>0.300528</td>\n",
       "      <td>0.167350</td>\n",
       "      <td>-0.031078</td>\n",
       "    </tr>\n",
       "    <tr>\n",
       "      <th>county_code</th>\n",
       "      <td>0.086316</td>\n",
       "      <td>0.106292</td>\n",
       "      <td>0.091468</td>\n",
       "      <td>0.009475</td>\n",
       "      <td>-0.017190</td>\n",
       "      <td>0.300528</td>\n",
       "      <td>1.000000</td>\n",
       "      <td>0.479912</td>\n",
       "      <td>-0.113842</td>\n",
       "    </tr>\n",
       "    <tr>\n",
       "      <th>parcelid</th>\n",
       "      <td>0.056894</td>\n",
       "      <td>0.063302</td>\n",
       "      <td>0.059484</td>\n",
       "      <td>0.016125</td>\n",
       "      <td>0.005764</td>\n",
       "      <td>0.167350</td>\n",
       "      <td>0.479912</td>\n",
       "      <td>1.000000</td>\n",
       "      <td>-0.059354</td>\n",
       "    </tr>\n",
       "    <tr>\n",
       "      <th>tax_rate</th>\n",
       "      <td>-0.073670</td>\n",
       "      <td>-0.046836</td>\n",
       "      <td>-0.073934</td>\n",
       "      <td>-0.119278</td>\n",
       "      <td>-0.066623</td>\n",
       "      <td>-0.031078</td>\n",
       "      <td>-0.113842</td>\n",
       "      <td>-0.059354</td>\n",
       "      <td>1.000000</td>\n",
       "    </tr>\n",
       "  </tbody>\n",
       "</table>\n",
       "</div>"
      ],
      "text/plain": [
       "                total_sqft  bedrooms  bathrooms  value_assessed  tax_amount  \\\n",
       "total_sqft        1.000000  0.610905   0.829911        0.602301    0.603723   \n",
       "bedrooms          0.610905  1.000000   0.642580        0.280387    0.282984   \n",
       "bathrooms         0.829911  0.642580   1.000000        0.524876    0.526300   \n",
       "value_assessed    0.602301  0.280387   0.524876        1.000000    0.989748   \n",
       "tax_amount        0.603723  0.282984   0.526300        0.989748    1.000000   \n",
       "year_built        0.443316  0.375784   0.518885        0.179530    0.184445   \n",
       "county_code       0.086316  0.106292   0.091468        0.009475   -0.017190   \n",
       "parcelid          0.056894  0.063302   0.059484        0.016125    0.005764   \n",
       "tax_rate         -0.073670 -0.046836  -0.073934       -0.119278   -0.066623   \n",
       "\n",
       "                year_built  county_code  parcelid  tax_rate  \n",
       "total_sqft        0.443316     0.086316  0.056894 -0.073670  \n",
       "bedrooms          0.375784     0.106292  0.063302 -0.046836  \n",
       "bathrooms         0.518885     0.091468  0.059484 -0.073934  \n",
       "value_assessed    0.179530     0.009475  0.016125 -0.119278  \n",
       "tax_amount        0.184445    -0.017190  0.005764 -0.066623  \n",
       "year_built        1.000000     0.300528  0.167350 -0.031078  \n",
       "county_code       0.300528     1.000000  0.479912 -0.113842  \n",
       "parcelid          0.167350     0.479912  1.000000 -0.059354  \n",
       "tax_rate         -0.031078    -0.113842 -0.059354  1.000000  "
      ]
     },
     "execution_count": 21,
     "metadata": {},
     "output_type": "execute_result"
    }
   ],
   "source": [
    "#see what correlates best with value_assessed\n",
    "df.corr()"
   ]
  },
  {
   "cell_type": "code",
   "execution_count": 22,
   "metadata": {},
   "outputs": [
    {
     "data": {
      "image/png": "[encoded data removed]",
      "text/plain": [
       "<Figure size 1152x432 with 4 Axes>"
      ]
     },
     "metadata": {
      "needs_background": "light"
     },
     "output_type": "display_data"
    }
   ],
   "source": [
    "# Plot the distributions\n",
    "plt.figure(figsize=(16, 6))\n",
    "\n",
    "# List of columns\n",
    "cols = ['total_sqft', 'bedrooms', 'bathrooms', 'year_built']\n",
    "\n",
    "for i, col in enumerate(cols):\n",
    "\n",
    "    # i starts at 0, but plot nos should start at 1\n",
    "    plot_number = i + 1 \n",
    "\n",
    "    # Create subplot.\n",
    "    plt.subplot(1,4, plot_number)\n",
    "\n",
    "    # Title with column name.\n",
    "    plt.title(col)\n",
    "\n",
    "    # Display histogram for column.\n",
    "    df[col].hist(bins=5)\n",
    "\n",
    "    # Hide gridlines.\n",
    "    plt.grid(False)\n",
    "    \n",
    "    plt.suptitle('Distributions')"
   ]
  },
  {
   "cell_type": "markdown",
   "metadata": {},
   "source": [
    "<hr style=\"border:1px solid black\"> </hr>"
   ]
  },
  {
   "cell_type": "markdown",
   "metadata": {},
   "source": [
    "##### Dealing with Bedroom Outliers"
   ]
  },
  {
   "cell_type": "code",
   "execution_count": 23,
   "metadata": {},
   "outputs": [
    {
     "data": {
      "image/png": "[encoded data removed]",
      "text/plain": [
       "<Figure size 432x288 with 1 Axes>"
      ]
     },
     "metadata": {
      "needs_background": "light"
     },
     "output_type": "display_data"
    }
   ],
   "source": [
    "#visualize distribution and outliers\n",
    "sns.boxplot(data=df.bedrooms)\n",
    "plt.title('Distribution of Bedroom Count')\n",
    "plt.show()"
   ]
  },
  {
   "cell_type": "code",
   "execution_count": 24,
   "metadata": {},
   "outputs": [
    {
     "data": {
      "text/plain": [
       "count    28292.000000\n",
       "mean         3.305988\n",
       "std          0.936688\n",
       "min          0.000000\n",
       "25%          3.000000\n",
       "50%          3.000000\n",
       "75%          4.000000\n",
       "max         12.000000\n",
       "Name: bedrooms, dtype: float64"
      ]
     },
     "execution_count": 24,
     "metadata": {},
     "output_type": "execute_result"
    }
   ],
   "source": [
    "#descriptive statistics of bedrooms\n",
    "df.bedrooms.describe()"
   ]
  },
  {
   "cell_type": "code",
   "execution_count": 25,
   "metadata": {},
   "outputs": [
    {
     "name": "stdout",
     "output_type": "stream",
     "text": [
      "IQR for bedrooms is: 1.0\n",
      "Q3 for bedrooms is: 4.0\n",
      "Q1 for bedrooms is: 3.0\n"
     ]
    }
   ],
   "source": [
    "#finding IQR of bedrooms to find outliers\n",
    "q1_bed = df['bedrooms'].quantile(0.25)\n",
    "q3_bed = df['bedrooms'].quantile(0.75)\n",
    "iqr_bed = q3_bed - q1_bed\n",
    "print(f'IQR for bedrooms is: {iqr_bed}')\n",
    "print(f'Q3 for bedrooms is: {q3_bed}')\n",
    "print(f'Q1 for bedrooms is: {q1_bed}')"
   ]
  },
  {
   "cell_type": "code",
   "execution_count": 26,
   "metadata": {},
   "outputs": [
    {
     "name": "stdout",
     "output_type": "stream",
     "text": [
      "Lower bounds for bedroom count is: 1.5\n",
      "Upprt bounds for bedroom count is: 5.5\n"
     ]
    }
   ],
   "source": [
    "#in order to find upper and lower bounds, must use following formula\n",
    "lowerbound_bed = q1_bed - (1.5 * iqr_bed)\n",
    "upperbound_bed = q3_bed + (1.5 * iqr_bed)\n",
    "print(f'Lower bounds for bedroom count is: {lowerbound_bed}')\n",
    "print(f'Upprt bounds for bedroom count is: {upperbound_bed}')"
   ]
  },
  {
   "cell_type": "code",
   "execution_count": 27,
   "metadata": {},
   "outputs": [],
   "source": [
    "#remove outliers for bedrooms\n",
    "df= df[df.bedrooms > lowerbound_bed]\n",
    "df= df[df.bedrooms < upperbound_bed]"
   ]
  },
  {
   "cell_type": "code",
   "execution_count": 28,
   "metadata": {},
   "outputs": [
    {
     "data": {
      "image/png": "[encoded data removed]",
      "text/plain": [
       "<Figure size 432x288 with 1 Axes>"
      ]
     },
     "metadata": {
      "needs_background": "light"
     },
     "output_type": "display_data"
    }
   ],
   "source": [
    "#show outliers have been removed\n",
    "sns.boxplot(data=df.bedrooms)\n",
    "plt.title('Distribution of Bedroom Count')\n",
    "plt.show()"
   ]
  },
  {
   "cell_type": "markdown",
   "metadata": {},
   "source": [
    "<hr style=\"border:1px solid black\"> </hr>"
   ]
  },
  {
   "cell_type": "markdown",
   "metadata": {},
   "source": [
    "##### Dealing with Bathroom Outliers"
   ]
  },
  {
   "cell_type": "code",
   "execution_count": 29,
   "metadata": {},
   "outputs": [
    {
     "data": {
      "text/plain": [
       "count    27530.000000\n",
       "mean         2.299491\n",
       "std          0.950588\n",
       "min          0.000000\n",
       "25%          2.000000\n",
       "50%          2.000000\n",
       "75%          3.000000\n",
       "max          8.000000\n",
       "Name: bathrooms, dtype: float64"
      ]
     },
     "execution_count": 29,
     "metadata": {},
     "output_type": "execute_result"
    }
   ],
   "source": [
    "#descriptive stats for bathrooms, help understand outliers\n",
    "df.bathrooms.describe()"
   ]
  },
  {
   "cell_type": "code",
   "execution_count": 30,
   "metadata": {},
   "outputs": [
    {
     "data": {
      "image/png": "[encoded data removed]",
      "text/plain": [
       "<Figure size 432x288 with 1 Axes>"
      ]
     },
     "metadata": {
      "needs_background": "light"
     },
     "output_type": "display_data"
    }
   ],
   "source": [
    "#visualize outliers\n",
    "sns.boxplot(data=df.bathrooms)\n",
    "plt.title('Distribution of Bathroom Count')\n",
    "plt.show()"
   ]
  },
  {
   "cell_type": "code",
   "execution_count": 31,
   "metadata": {},
   "outputs": [
    {
     "name": "stdout",
     "output_type": "stream",
     "text": [
      "IQR for bathrooms is: 1.0\n",
      "Q3 for bathrooms is: 3.0\n",
      "Q1 for bathrooms is: 2.0\n"
     ]
    }
   ],
   "source": [
    "#finding IQR of bathrooms to find outliers\n",
    "q1_bath = df['bathrooms'].quantile(0.25)\n",
    "q3_bath = df['bathrooms'].quantile(0.75)\n",
    "iqr_bath = q3_bath - q1_bath\n",
    "\n",
    "print(f'IQR for bathrooms is: {iqr_bath}')\n",
    "print(f'Q3 for bathrooms is: {q3_bath}')\n",
    "print(f'Q1 for bathrooms is: {q1_bath}')"
   ]
  },
  {
   "cell_type": "code",
   "execution_count": 32,
   "metadata": {},
   "outputs": [
    {
     "name": "stdout",
     "output_type": "stream",
     "text": [
      "Lower bounds for bathroom count is: 0.5\n",
      "Upper bounds for bathroom count is: 4.5\n"
     ]
    }
   ],
   "source": [
    "lowerbound_bath = q1_bath - (1.5 * iqr_bath)\n",
    "upperbound_bath = q3_bath + (1.5 * iqr_bath)\n",
    "lowerbound_bath, upperbound_bath\n",
    "print(f'Lower bounds for bathroom count is: {lowerbound_bath}')\n",
    "print(f'Upper bounds for bathroom count is: {upperbound_bath}')"
   ]
  },
  {
   "cell_type": "code",
   "execution_count": 33,
   "metadata": {},
   "outputs": [],
   "source": [
    "#remove outliers for bathroom\n",
    "df= df[df.bathrooms > lowerbound_bath]\n",
    "df= df[df.bathrooms < upperbound_bath]"
   ]
  },
  {
   "cell_type": "code",
   "execution_count": 34,
   "metadata": {},
   "outputs": [
    {
     "data": {
      "image/png": "[encoded data removed]",
      "text/plain": [
       "<Figure size 432x288 with 1 Axes>"
      ]
     },
     "metadata": {
      "needs_background": "light"
     },
     "output_type": "display_data"
    }
   ],
   "source": [
    "#show outliers have been removed\n",
    "sns.boxplot(data=df.bathrooms)\n",
    "plt.title('Distribution of Bathroom Count')\n",
    "plt.show()"
   ]
  },
  {
   "cell_type": "markdown",
   "metadata": {},
   "source": [
    "<hr style=\"border:1px solid black\"> </hr>"
   ]
  },
  {
   "cell_type": "markdown",
   "metadata": {},
   "source": [
    "##### Dealing with Value Appraised Outliers"
   ]
  },
  {
   "cell_type": "code",
   "execution_count": 35,
   "metadata": {},
   "outputs": [
    {
     "data": {
      "image/png": "[encoded data removed]",
      "text/plain": [
       "<Figure size 432x288 with 1 Axes>"
      ]
     },
     "metadata": {
      "needs_background": "light"
     },
     "output_type": "display_data"
    }
   ],
   "source": [
    "#taxvalue distribution\n",
    "sns.histplot(data=df.value_assessed)\n",
    "plt.title('Distribution of Assessed Value')\n",
    "plt.show()"
   ]
  },
  {
   "cell_type": "code",
   "execution_count": 36,
   "metadata": {},
   "outputs": [
    {
     "data": {
      "text/plain": [
       "count    2.648000e+04\n",
       "mean     4.618069e+05\n",
       "std      4.628791e+05\n",
       "min      1.000000e+03\n",
       "25%      1.921658e+05\n",
       "50%      3.654890e+05\n",
       "75%      5.840095e+05\n",
       "max      1.360010e+07\n",
       "Name: value_assessed, dtype: float64"
      ]
     },
     "execution_count": 36,
     "metadata": {},
     "output_type": "execute_result"
    }
   ],
   "source": [
    "df.value_assessed.describe()"
   ]
  },
  {
   "cell_type": "code",
   "execution_count": 37,
   "metadata": {},
   "outputs": [
    {
     "name": "stdout",
     "output_type": "stream",
     "text": [
      "IQR for value assessed is: 391843.75\n",
      "Q3 for value assessed is: 584009.5\n",
      "Q1 for value assessed is: 192165.75\n"
     ]
    }
   ],
   "source": [
    "#finding IQR of Tax Value to find outliers\n",
    "q1_tax = df['value_assessed'].quantile(0.25)\n",
    "q3_tax = df['value_assessed'].quantile(0.75)\n",
    "iqr_tax = q3_tax- q1_tax\n",
    "\n",
    "print(f'IQR for value assessed is: {iqr_tax}')\n",
    "print(f'Q3 for value assessed is: {q3_tax}')\n",
    "print(f'Q1 for value assessed is: {q1_tax}')"
   ]
  },
  {
   "cell_type": "code",
   "execution_count": 38,
   "metadata": {},
   "outputs": [
    {
     "name": "stdout",
     "output_type": "stream",
     "text": [
      "Lower bounds for Assessed Value is: -395599.875\n",
      "Upper bounds for Assessed Value is: 1171775.125\n"
     ]
    }
   ],
   "source": [
    "lowerbound_tax = q1_tax - (1.5 * iqr_tax)\n",
    "upperbound_tax = q3_tax + (1.5 * iqr_tax)\n",
    "print(f'Lower bounds for Assessed Value is: {lowerbound_tax}')\n",
    "print(f'Upper bounds for Assessed Value is: {upperbound_tax}')"
   ]
  },
  {
   "cell_type": "code",
   "execution_count": 39,
   "metadata": {},
   "outputs": [],
   "source": [
    "#remove outliers for tax\n",
    "df= df[df.value_assessed > lowerbound_tax]\n",
    "df= df[df.value_assessed < upperbound_tax]"
   ]
  },
  {
   "cell_type": "code",
   "execution_count": 40,
   "metadata": {},
   "outputs": [
    {
     "data": {
      "image/png": "[encoded data removed]",
      "text/plain": [
       "<Figure size 432x288 with 1 Axes>"
      ]
     },
     "metadata": {
      "needs_background": "light"
     },
     "output_type": "display_data"
    }
   ],
   "source": [
    "#taxvalue with outliers removed\n",
    "sns.histplot(data=df.value_assessed)\n",
    "plt.title('Distribution of Assessed Value')\n",
    "plt.show()"
   ]
  },
  {
   "cell_type": "markdown",
   "metadata": {},
   "source": [
    "<hr style=\"border:1px solid black\"> </hr>"
   ]
  },
  {
   "cell_type": "markdown",
   "metadata": {},
   "source": [
    "##### Dealing with Total Square Feet Outliers"
   ]
  },
  {
   "cell_type": "code",
   "execution_count": 41,
   "metadata": {},
   "outputs": [
    {
     "data": {
      "image/png": "[encoded data removed]",
      "text/plain": [
       "<Figure size 432x288 with 1 Axes>"
      ]
     },
     "metadata": {
      "needs_background": "light"
     },
     "output_type": "display_data"
    }
   ],
   "source": [
    "#sqft distribution\n",
    "sns.histplot(data=df.total_sqft)\n",
    "plt.title('Distribution of Sqft')\n",
    "plt.show()"
   ]
  },
  {
   "cell_type": "code",
   "execution_count": 42,
   "metadata": {},
   "outputs": [
    {
     "data": {
      "text/plain": [
       "count    25142.000000\n",
       "mean      1750.113197\n",
       "std        668.999538\n",
       "min        326.000000\n",
       "25%       1253.250000\n",
       "50%       1600.000000\n",
       "75%       2118.000000\n",
       "max       6756.000000\n",
       "Name: total_sqft, dtype: float64"
      ]
     },
     "execution_count": 42,
     "metadata": {},
     "output_type": "execute_result"
    }
   ],
   "source": [
    "df.total_sqft.describe()"
   ]
  },
  {
   "cell_type": "code",
   "execution_count": 43,
   "metadata": {},
   "outputs": [
    {
     "name": "stdout",
     "output_type": "stream",
     "text": [
      "IQR for total square feet is: 864.75\n",
      "Q3 for total square feet is: 2118.0\n",
      "Q1 for total square feet is: 1253.25\n"
     ]
    }
   ],
   "source": [
    "#finding IQR of Tax Value to find outliers\n",
    "q1_sqft = df['total_sqft'].quantile(0.25)\n",
    "q3_sqft = df['total_sqft'].quantile(0.75)\n",
    "iqr_sqft = q3_sqft - q1_sqft\n",
    "\n",
    "print(f'IQR for total square feet is: {iqr_sqft}')\n",
    "print(f'Q3 for total square feet is: {q3_sqft}')\n",
    "print(f'Q1 for total square feet is: {q1_sqft}')"
   ]
  },
  {
   "cell_type": "code",
   "execution_count": 44,
   "metadata": {},
   "outputs": [
    {
     "name": "stdout",
     "output_type": "stream",
     "text": [
      "Lower bounds for Square Feet  is: -43.875\n",
      "Upper bounds for Square Feet is: 3415.125\n"
     ]
    }
   ],
   "source": [
    "lowerbound_sqft = q1_sqft - (1.5 * iqr_sqft)\n",
    "upperbound_sqft = q3_sqft + (1.5 * iqr_sqft)\n",
    "print(f'Lower bounds for Square Feet  is: {lowerbound_sqft}')\n",
    "print(f'Upper bounds for Square Feet is: {upperbound_sqft}')"
   ]
  },
  {
   "cell_type": "code",
   "execution_count": 45,
   "metadata": {},
   "outputs": [],
   "source": [
    "#remove outliers for sqft\n",
    "df= df[df.total_sqft > lowerbound_sqft]\n",
    "df= df[df.total_sqft < upperbound_sqft]"
   ]
  },
  {
   "cell_type": "code",
   "execution_count": 46,
   "metadata": {},
   "outputs": [
    {
     "data": {
      "image/png": "[encoded data removed]",
      "text/plain": [
       "<Figure size 432x288 with 1 Axes>"
      ]
     },
     "metadata": {
      "needs_background": "light"
     },
     "output_type": "display_data"
    }
   ],
   "source": [
    "#sqft distribution with outliers removed\n",
    "sns.histplot(data=df.total_sqft)\n",
    "plt.title('Distribution of Sqft')\n",
    "plt.show()"
   ]
  },
  {
   "cell_type": "code",
   "execution_count": 47,
   "metadata": {},
   "outputs": [
    {
     "name": "stdout",
     "output_type": "stream",
     "text": [
      "<class 'pandas.core.frame.DataFrame'>\n",
      "Int64Index: 24610 entries, 0 to 28417\n",
      "Data columns (total 9 columns):\n",
      " #   Column          Non-Null Count  Dtype  \n",
      "---  ------          --------------  -----  \n",
      " 0   total_sqft      24610 non-null  float64\n",
      " 1   bedrooms        24610 non-null  float64\n",
      " 2   bathrooms       24610 non-null  float64\n",
      " 3   value_assessed  24610 non-null  float64\n",
      " 4   tax_amount      24610 non-null  float64\n",
      " 5   year_built      24610 non-null  float64\n",
      " 6   county_code     24610 non-null  float64\n",
      " 7   parcelid        24610 non-null  int64  \n",
      " 8   tax_rate        24610 non-null  float64\n",
      "dtypes: float64(8), int64(1)\n",
      "memory usage: 1.9 MB\n"
     ]
    }
   ],
   "source": [
    "#we now have 24610 entries after dropping outliers in chosen columns\n",
    "# 3,682 entries were dropped as outliers (13% dropped)\n",
    "df.info()"
   ]
  },
  {
   "cell_type": "markdown",
   "metadata": {},
   "source": [
    "### Takeaways for Outliers\n",
    "\n",
    "- I have decided to drop the outliers from the total_sqft, bedrooms, bathrooms and value_assessed columns\n",
    "    - Although I cannot verify that this data isn't accurate, I am choosing to leave it out of my data.\n",
    "\n",
    "<br>\n",
    "\n",
    "- 3,682 total entires were removed after dropping outliers\n",
    "\n",
    "<br>\n",
    "\n",
    "- **Bedrooms**: units with less than 1.5 bedrooms and more than 5.5 bedrooms were dropped\n",
    "- **Bathrooms**: units with less than 0.5 bathrooms and more than 4.5 bedrooms were dropped\n",
    "- **Appraised Value**: units with appraised value of less than -395,599.86 and an appraised value of more than 1,171,775.13 were dropped\n",
    "- **Total Square feet**: units with total square feet of less than - 43.88 and more than 3,415 were dropped"
   ]
  },
  {
   "cell_type": "markdown",
   "metadata": {},
   "source": [
    "<hr style=\"border:2px solid black\"> </hr>"
   ]
  },
  {
   "cell_type": "code",
   "execution_count": 48,
   "metadata": {},
   "outputs": [
    {
     "name": "stdout",
     "output_type": "stream",
     "text": [
      "train -> (13781, 9)\n",
      "validate -> (5907, 9)\n",
      "test -> (4922, 9)\n"
     ]
    }
   ],
   "source": [
    "#split data using zillow_split function from prepare file\n",
    "train, validate, test, X_train, y_train, X_validate, y_validate, X_test, y_test = prepare.zillow_split(df, 'value_assessed')"
   ]
  },
  {
   "cell_type": "code",
   "execution_count": 49,
   "metadata": {},
   "outputs": [],
   "source": [
    "#specify numeric columns that will be scaled\n",
    "numeric_cols= ['total_sqft', 'year_built']"
   ]
  },
  {
   "cell_type": "code",
   "execution_count": 50,
   "metadata": {},
   "outputs": [],
   "source": [
    "#scale the data using minmaxscaler function from prepare file\n",
    "X_train_scaled, X_validate_scaled, X_test_scaled = prepare.min_max_scaler(X_train, X_validate, X_test, numeric_cols)"
   ]
  },
  {
   "cell_type": "markdown",
   "metadata": {},
   "source": [
    "### Takeaways from Prepare \n",
    "- a column named tax_rate was created by dividing taxamount and taxvaluedollarcnt\n",
    "- several columns were renamed in order to make them more legible\n",
    "- duplicates and null values were dropped\n",
    "- outliers were dropped from bedrooms, bathrooms, total_sqft and value_assessed columns\n",
    "- final dataframe contains 24,610 entries with 9 columns that are all numeric data types (float64 & int64)"
   ]
  },
  {
   "cell_type": "markdown",
   "metadata": {},
   "source": [
    "<hr style=\"border:3px solid black\"> </hr>"
   ]
  },
  {
   "cell_type": "markdown",
   "metadata": {},
   "source": [
    "# Explore"
   ]
  },
  {
   "cell_type": "code",
   "execution_count": 51,
   "metadata": {},
   "outputs": [],
   "source": [
    "#set variable to correlation\n",
    "zillow_correlation = train.corr()"
   ]
  },
  {
   "cell_type": "code",
   "execution_count": 52,
   "metadata": {},
   "outputs": [
    {
     "data": {
      "text/plain": [
       "value_assessed    1.000000\n",
       "tax_amount        0.960258\n",
       "total_sqft        0.453666\n",
       "bathrooms         0.369707\n",
       "year_built        0.227459\n",
       "bedrooms          0.204167\n",
       "county_code       0.124354\n",
       "parcelid          0.076986\n",
       "tax_rate         -0.175648\n",
       "Name: value_assessed, dtype: float64"
      ]
     },
     "execution_count": 52,
     "metadata": {},
     "output_type": "execute_result"
    }
   ],
   "source": [
    "#this shows that total_sqft is closely correlated to value_assessed\n",
    "zillow_corr = zillow_correlation['value_assessed'].sort_values(ascending=False)\n",
    "zillow_corr"
   ]
  },
  {
   "cell_type": "code",
   "execution_count": 53,
   "metadata": {},
   "outputs": [
    {
     "data": {
      "image/png": "[encoded data removed]",
      "text/plain": [
       "<Figure size 576x864 with 2 Axes>"
      ]
     },
     "metadata": {
      "needs_background": "light"
     },
     "output_type": "display_data"
    }
   ],
   "source": [
    "plt.figure(figsize=(8, 12))\n",
    "heatmap = sns.heatmap(df.corr()[['value_assessed']].sort_values(by='value_assessed', ascending=False), vmin=-1, vmax=1, annot=True, cmap='mako')\n",
    "heatmap.set_title('Features Correlating with value_assessed', fontdict={'fontsize':18}, pad=16);"
   ]
  },
  {
   "cell_type": "markdown",
   "metadata": {},
   "source": [
    "### Feature Engineering"
   ]
  },
  {
   "cell_type": "code",
   "execution_count": 54,
   "metadata": {},
   "outputs": [
    {
     "data": {
      "text/plain": [
       "total_sqft     1\n",
       "tax_rate       1\n",
       "bedrooms       2\n",
       "bathrooms      3\n",
       "year_built     4\n",
       "county_code    5\n",
       "tax_amount     6\n",
       "parcelid       7\n",
       "dtype: int64"
      ]
     },
     "execution_count": 54,
     "metadata": {},
     "output_type": "execute_result"
    }
   ],
   "source": [
    "#RFE\n",
    "lm = LinearRegression()\n",
    "rfe = RFE(estimator=lm, n_features_to_select=2)\n",
    "rfe.fit_transform(X_train_scaled, y_train)\n",
    "feature_mask_rank = rfe.ranking_\n",
    "pd.Series(dict(zip(X_train.columns, rfe.ranking_))).sort_values()"
   ]
  },
  {
   "cell_type": "code",
   "execution_count": 55,
   "metadata": {},
   "outputs": [
    {
     "data": {
      "text/plain": [
       "Index(['total_sqft', 'tax_amount'], dtype='object')"
      ]
     },
     "execution_count": 55,
     "metadata": {},
     "output_type": "execute_result"
    }
   ],
   "source": [
    "#SelectKBest model \n",
    "f_selector = SelectKBest(score_func=f_regression, k=2)\n",
    "#fit the model\n",
    "f_selector.fit(X_train, y_train)\n",
    "mask = f_selector.get_support()\n",
    "X_train.columns[mask]"
   ]
  },
  {
   "cell_type": "markdown",
   "metadata": {},
   "source": [
    "### Takeaways from Feature Engineering and Correlation:\n",
    "- Although tax_amount has the highest correlation, I will not be using it to model. This would cause the model to have prior knowledge and result in inaccuaracies.\n",
    "- RFE and SelectKBest show that total_sqft is the most important feature to use in predicting value_assessed"
   ]
  },
  {
   "cell_type": "markdown",
   "metadata": {},
   "source": [
    "<hr style=\"border:2px solid black\"> </hr>"
   ]
  },
  {
   "cell_type": "markdown",
   "metadata": {},
   "source": [
    "### Hypothesis 1: T-Test (cont vs discrete)\n",
    "$H_0$: There is no relationship between value_assessed and bedroom count\n",
    "- value_assessed != bedroom count\n",
    "<br>\n",
    "\n",
    "$H_a$: There is a relationship between value_assessed and bedroom count\n",
    "- value_assessed == bedroom count"
   ]
  },
  {
   "cell_type": "code",
   "execution_count": 56,
   "metadata": {},
   "outputs": [],
   "source": [
    "#set alpha\n",
    "alpha = .05"
   ]
  },
  {
   "cell_type": "code",
   "execution_count": 57,
   "metadata": {},
   "outputs": [
    {
     "data": {
      "text/plain": [
       "(13781, 13781)"
      ]
     },
     "execution_count": 57,
     "metadata": {},
     "output_type": "execute_result"
    }
   ],
   "source": [
    "# sample size, must be more then 30 to meet assumption\n",
    "train.value_assessed.count(), train.bedrooms.count()"
   ]
  },
  {
   "cell_type": "code",
   "execution_count": 58,
   "metadata": {},
   "outputs": [
    {
     "data": {
      "text/plain": [
       "(62595513701.88162, 0.6121007141677633)"
      ]
     },
     "execution_count": 58,
     "metadata": {},
     "output_type": "execute_result"
    }
   ],
   "source": [
    "#check variance\n",
    "train.value_assessed.var(), train.bedrooms.var()\n",
    "\n",
    "#this shows not equal varient"
   ]
  },
  {
   "cell_type": "code",
   "execution_count": 59,
   "metadata": {},
   "outputs": [],
   "source": [
    "#t-test on entire train set\n",
    "t, p = stats.ttest_ind(train.value_assessed,train.bedrooms, equal_var=False)"
   ]
  },
  {
   "cell_type": "code",
   "execution_count": 60,
   "metadata": {},
   "outputs": [
    {
     "data": {
      "text/plain": [
       "(177.91120198112105, 0.0, 0.05)"
      ]
     },
     "execution_count": 60,
     "metadata": {},
     "output_type": "execute_result"
    }
   ],
   "source": [
    "t, p, alpha"
   ]
  },
  {
   "cell_type": "code",
   "execution_count": 61,
   "metadata": {},
   "outputs": [
    {
     "data": {
      "text/plain": [
       "True"
      ]
     },
     "execution_count": 61,
     "metadata": {},
     "output_type": "execute_result"
    }
   ],
   "source": [
    "p <alpha"
   ]
  },
  {
   "cell_type": "code",
   "execution_count": 62,
   "metadata": {},
   "outputs": [
    {
     "name": "stdout",
     "output_type": "stream",
     "text": [
      "We calculate a t of 177.911202 and a statistical certainty p of 0.000000\n",
      "Because p 0.000000 < α  0.050000, we fail to reject our null hypothesis\n"
     ]
    }
   ],
   "source": [
    "print(f'We calculate a t of {t:3f} and a statistical certainty p of {p:4f}')\n",
    "print(f'Because p {p:4f} < α  {alpha:4f}, we fail to reject our null hypothesis')"
   ]
  },
  {
   "cell_type": "markdown",
   "metadata": {},
   "source": [
    "<hr style=\"border:1px solid black\"> </hr>"
   ]
  },
  {
   "cell_type": "markdown",
   "metadata": {},
   "source": [
    "### Hypothesis 2: T-Test (cont vs discrete)\n",
    "$H_0$: There is no relationship between value_assessed and number of bathrooms\n",
    "- value_assessed != bathroom count\n",
    "<br>\n",
    "\n",
    "$H_a$: There is a relationship between value_assessed and number of bathrooms\n",
    "- value_assessed == bathroom count"
   ]
  },
  {
   "cell_type": "code",
   "execution_count": 63,
   "metadata": {},
   "outputs": [],
   "source": [
    "#set alpha\n",
    "alpha = .05"
   ]
  },
  {
   "cell_type": "code",
   "execution_count": 64,
   "metadata": {},
   "outputs": [
    {
     "data": {
      "text/plain": [
       "(13781, 13781)"
      ]
     },
     "execution_count": 64,
     "metadata": {},
     "output_type": "execute_result"
    }
   ],
   "source": [
    "# sample size, must be more then 30 to meet assumption\n",
    "train.value_assessed.count(), train.bathrooms.count()"
   ]
  },
  {
   "cell_type": "code",
   "execution_count": 65,
   "metadata": {},
   "outputs": [
    {
     "data": {
      "text/plain": [
       "(62595513701.88162, 0.5141750900384159)"
      ]
     },
     "execution_count": 65,
     "metadata": {},
     "output_type": "execute_result"
    }
   ],
   "source": [
    "#check variance\n",
    "train.value_assessed.var(), train.bathrooms.var()\n",
    "\n",
    "#this shows not equal varient"
   ]
  },
  {
   "cell_type": "code",
   "execution_count": 66,
   "metadata": {},
   "outputs": [],
   "source": [
    "#t-test on entire train set\n",
    "t, p = stats.ttest_ind(train.value_assessed,train.bathrooms, equal_var=False)"
   ]
  },
  {
   "cell_type": "code",
   "execution_count": 67,
   "metadata": {},
   "outputs": [
    {
     "name": "stdout",
     "output_type": "stream",
     "text": [
      "We calculate a t of 177.911715 and a statistical certainty p of 0.000000\n",
      "Because p 0.000000 < α  0.050000, we fail to reject our null hypothesis\n"
     ]
    }
   ],
   "source": [
    "print(f'We calculate a t of {t:3f} and a statistical certainty p of {p:4f}')\n",
    "print(f'Because p {p:4f} < α  {alpha:4f}, we fail to reject our null hypothesis')"
   ]
  },
  {
   "cell_type": "markdown",
   "metadata": {},
   "source": [
    "<hr style=\"border:1px solid black\"> </hr>"
   ]
  },
  {
   "cell_type": "markdown",
   "metadata": {},
   "source": [
    "### Hypothesis 3: Pearson's Correlation Test (cont vs cont)\n",
    "\n",
    "$H_0$: There is no relationship between total_sqft and value_assessed\n",
    "- total_sqft != value_assessed \n",
    "<br>\n",
    "\n",
    "$H_a$: There is a relationship between total_sqft and value_assessed\n",
    "- total_sqft == value_assessed"
   ]
  },
  {
   "cell_type": "code",
   "execution_count": 68,
   "metadata": {},
   "outputs": [],
   "source": [
    "#pearsons correlation on entire train set\n",
    "#number of rows\n",
    "n = train.shape[0] \n",
    "\n",
    "#degrees of freedom- how much the data can vary\n",
    "deg_f = n-2 \n",
    "\n",
    "#confidence interval (!)\n",
    "conf_in = 0.95\n",
    "\n",
    "alpha = 1- conf_in"
   ]
  },
  {
   "cell_type": "code",
   "execution_count": 69,
   "metadata": {},
   "outputs": [],
   "source": [
    "x= train.total_sqft\n",
    "y= train.value_assessed"
   ]
  },
  {
   "cell_type": "code",
   "execution_count": 70,
   "metadata": {},
   "outputs": [],
   "source": [
    "r, p = stats.pearsonr(x,y)"
   ]
  },
  {
   "cell_type": "code",
   "execution_count": 71,
   "metadata": {},
   "outputs": [
    {
     "data": {
      "text/plain": [
       "True"
      ]
     },
     "execution_count": 71,
     "metadata": {},
     "output_type": "execute_result"
    }
   ],
   "source": [
    "p < alpha"
   ]
  },
  {
   "cell_type": "code",
   "execution_count": 72,
   "metadata": {},
   "outputs": [
    {
     "name": "stdout",
     "output_type": "stream",
     "text": [
      "We calculate a pearson r of 0.453666 and a statistical certainty p of 0.000000\n",
      "Because p 0.000000 < α  0.050000, we can reject our null hypothesis\n"
     ]
    }
   ],
   "source": [
    "print(f'We calculate a pearson r of {r:3f} and a statistical certainty p of {p:4f}')\n",
    "print(f'Because p {p:4f} < α  {alpha:4f}, we can reject our null hypothesis')"
   ]
  },
  {
   "cell_type": "markdown",
   "metadata": {},
   "source": [
    "<hr style=\"border:1px solid black\"> </hr>"
   ]
  },
  {
   "cell_type": "markdown",
   "metadata": {},
   "source": [
    "### Hypothesis 4: Pearson's Correlation Test (cont vs cont)\n",
    "\n",
    "$H_0$: There is no relationship between year_built and value_assessed\n",
    "- year_built != value_assessed \n",
    "<br>\n",
    "\n",
    "$H_a$: There is a relationship between year_built and value_assessed\n",
    "- year_built == value_assessed"
   ]
  },
  {
   "cell_type": "code",
   "execution_count": 73,
   "metadata": {},
   "outputs": [],
   "source": [
    "#pearsons correlation on entire train set\n",
    "#number of rows\n",
    "n = train.shape[0] \n",
    "\n",
    "#degrees of freedom- how much the data can vary\n",
    "deg_f = n-2 \n",
    "\n",
    "#confidence interval (!)\n",
    "conf_in = 0.95\n",
    "\n",
    "alpha = 1- conf_in"
   ]
  },
  {
   "cell_type": "code",
   "execution_count": 74,
   "metadata": {},
   "outputs": [],
   "source": [
    "x= train.year_built\n",
    "y= train.value_assessed"
   ]
  },
  {
   "cell_type": "code",
   "execution_count": 75,
   "metadata": {},
   "outputs": [],
   "source": [
    "r, p = stats.pearsonr(x,y)"
   ]
  },
  {
   "cell_type": "code",
   "execution_count": 76,
   "metadata": {},
   "outputs": [
    {
     "data": {
      "text/plain": [
       "True"
      ]
     },
     "execution_count": 76,
     "metadata": {},
     "output_type": "execute_result"
    }
   ],
   "source": [
    "p < alpha"
   ]
  },
  {
   "cell_type": "code",
   "execution_count": 77,
   "metadata": {},
   "outputs": [
    {
     "name": "stdout",
     "output_type": "stream",
     "text": [
      "We calculate a pearson r of 0.227459 and a statistical certainty p of 0.000000\n",
      "Because p 0.000000 < α  0.050000, we can reject our null hypothesis\n"
     ]
    }
   ],
   "source": [
    "print(f'We calculate a pearson r of {r:3f} and a statistical certainty p of {p:4f}')\n",
    "print(f'Because p {p:4f} < α  {alpha:4f}, we can reject our null hypothesis')"
   ]
  },
  {
   "cell_type": "markdown",
   "metadata": {},
   "source": [
    "### Takeaways from Hypothesis Testing:\n",
    "- **Hypothesis 1**: We reject the $H_0$. There is a relationship between the property's value assessed and the number of bedrooms\n",
    "- **Hypothesis 2**: We reject the $H_0$. There is a relationship between the property's value assessed and the number of bathrooms\n",
    "- **Hypothesis 3**: We reject the $H_0$. There is a relationship between the property's value assessed and the total square footage\n",
    "- **Hypothesis 4**: We reject the $H_0$. There is a relationship between the property's value assessed and the year built"
   ]
  },
  {
   "cell_type": "markdown",
   "metadata": {},
   "source": [
    "<hr style=\"border:px solid black\"> </hr>"
   ]
  },
  {
   "cell_type": "markdown",
   "metadata": {},
   "source": [
    "# Modeling"
   ]
  },
  {
   "cell_type": "code",
   "execution_count": 78,
   "metadata": {},
   "outputs": [
    {
     "data": {
      "text/html": [
       "<div>\n",
       "<style scoped>\n",
       "    .dataframe tbody tr th:only-of-type {\n",
       "        vertical-align: middle;\n",
       "    }\n",
       "\n",
       "    .dataframe tbody tr th {\n",
       "        vertical-align: top;\n",
       "    }\n",
       "\n",
       "    .dataframe thead th {\n",
       "        text-align: right;\n",
       "    }\n",
       "</style>\n",
       "<table border=\"1\" class=\"dataframe\">\n",
       "  <thead>\n",
       "    <tr style=\"text-align: right;\">\n",
       "      <th></th>\n",
       "      <th>total_sqft</th>\n",
       "      <th>bedrooms</th>\n",
       "      <th>bathrooms</th>\n",
       "      <th>tax_amount</th>\n",
       "      <th>year_built</th>\n",
       "      <th>county_code</th>\n",
       "      <th>parcelid</th>\n",
       "      <th>tax_rate</th>\n",
       "    </tr>\n",
       "  </thead>\n",
       "  <tbody>\n",
       "    <tr>\n",
       "      <th>11646</th>\n",
       "      <td>0.237617</td>\n",
       "      <td>3.0</td>\n",
       "      <td>1.0</td>\n",
       "      <td>2114.08</td>\n",
       "      <td>0.496183</td>\n",
       "      <td>6037.0</td>\n",
       "      <td>12475415</td>\n",
       "      <td>0.012821</td>\n",
       "    </tr>\n",
       "    <tr>\n",
       "      <th>3981</th>\n",
       "      <td>0.998381</td>\n",
       "      <td>3.0</td>\n",
       "      <td>3.0</td>\n",
       "      <td>9047.20</td>\n",
       "      <td>0.809160</td>\n",
       "      <td>6059.0</td>\n",
       "      <td>14498746</td>\n",
       "      <td>0.010243</td>\n",
       "    </tr>\n",
       "    <tr>\n",
       "      <th>20964</th>\n",
       "      <td>0.732923</td>\n",
       "      <td>3.0</td>\n",
       "      <td>3.0</td>\n",
       "      <td>4175.85</td>\n",
       "      <td>0.908397</td>\n",
       "      <td>6037.0</td>\n",
       "      <td>11215841</td>\n",
       "      <td>0.025229</td>\n",
       "    </tr>\n",
       "    <tr>\n",
       "      <th>11000</th>\n",
       "      <td>0.617028</td>\n",
       "      <td>4.0</td>\n",
       "      <td>3.0</td>\n",
       "      <td>2711.28</td>\n",
       "      <td>0.664122</td>\n",
       "      <td>6037.0</td>\n",
       "      <td>11187703</td>\n",
       "      <td>0.016116</td>\n",
       "    </tr>\n",
       "    <tr>\n",
       "      <th>11701</th>\n",
       "      <td>0.622208</td>\n",
       "      <td>4.0</td>\n",
       "      <td>3.0</td>\n",
       "      <td>6359.13</td>\n",
       "      <td>0.801527</td>\n",
       "      <td>6037.0</td>\n",
       "      <td>11345383</td>\n",
       "      <td>0.013420</td>\n",
       "    </tr>\n",
       "  </tbody>\n",
       "</table>\n",
       "</div>"
      ],
      "text/plain": [
       "       total_sqft  bedrooms  bathrooms  tax_amount  year_built  county_code  \\\n",
       "11646    0.237617       3.0        1.0     2114.08    0.496183       6037.0   \n",
       "3981     0.998381       3.0        3.0     9047.20    0.809160       6059.0   \n",
       "20964    0.732923       3.0        3.0     4175.85    0.908397       6037.0   \n",
       "11000    0.617028       4.0        3.0     2711.28    0.664122       6037.0   \n",
       "11701    0.622208       4.0        3.0     6359.13    0.801527       6037.0   \n",
       "\n",
       "       parcelid  tax_rate  \n",
       "11646  12475415  0.012821  \n",
       "3981   14498746  0.010243  \n",
       "20964  11215841  0.025229  \n",
       "11000  11187703  0.016116  \n",
       "11701  11345383  0.013420  "
      ]
     },
     "execution_count": 78,
     "metadata": {},
     "output_type": "execute_result"
    }
   ],
   "source": [
    "#take a look at X_train_scaled dataframe\n",
    "#year_built and total_sqft are the only columns that are \"scaled\"\n",
    "X_train_scaled.head()"
   ]
  },
  {
   "cell_type": "code",
   "execution_count": 79,
   "metadata": {},
   "outputs": [],
   "source": [
    "#drop tax_amount from scaled data (too closely correlated, prior knowledge)\n",
    "X_train_scaled = X_train_scaled.drop(columns=['tax_amount'])\n",
    "X_validate_scaled = X_validate_scaled.drop(columns=['tax_amount'])\n",
    "X_test_scaled = X_test_scaled.drop(columns=['tax_amount'])"
   ]
  },
  {
   "cell_type": "code",
   "execution_count": 80,
   "metadata": {},
   "outputs": [],
   "source": [
    "#create a baseline\n",
    "# We need y_train and y_validate to be dataframes to append the new columns with predicted values. \n",
    "y_train = pd.DataFrame(y_train)\n",
    "y_validate = pd.DataFrame(y_validate)"
   ]
  },
  {
   "cell_type": "code",
   "execution_count": 81,
   "metadata": {},
   "outputs": [],
   "source": [
    "# 1. Predict assessed_value_pred_mean\n",
    "\n",
    "#predicted mean will be the mean of value_assessed column\n",
    "value_assessed_pred_mean = y_train['value_assessed'].mean()\n",
    "#new column created\n",
    "y_train['value_assessed_pred_mean'] = value_assessed_pred_mean\n",
    "y_validate['value_assessed_pred_mean'] = value_assessed_pred_mean"
   ]
  },
  {
   "cell_type": "code",
   "execution_count": 82,
   "metadata": {},
   "outputs": [
    {
     "data": {
      "text/html": [
       "<div>\n",
       "<style scoped>\n",
       "    .dataframe tbody tr th:only-of-type {\n",
       "        vertical-align: middle;\n",
       "    }\n",
       "\n",
       "    .dataframe tbody tr th {\n",
       "        vertical-align: top;\n",
       "    }\n",
       "\n",
       "    .dataframe thead th {\n",
       "        text-align: right;\n",
       "    }\n",
       "</style>\n",
       "<table border=\"1\" class=\"dataframe\">\n",
       "  <thead>\n",
       "    <tr style=\"text-align: right;\">\n",
       "      <th></th>\n",
       "      <th>value_assessed</th>\n",
       "      <th>value_assessed_pred_mean</th>\n",
       "    </tr>\n",
       "  </thead>\n",
       "  <tbody>\n",
       "    <tr>\n",
       "      <th>11646</th>\n",
       "      <td>164898.0</td>\n",
       "      <td>379173.703723</td>\n",
       "    </tr>\n",
       "    <tr>\n",
       "      <th>3981</th>\n",
       "      <td>883229.0</td>\n",
       "      <td>379173.703723</td>\n",
       "    </tr>\n",
       "    <tr>\n",
       "      <th>20964</th>\n",
       "      <td>165519.0</td>\n",
       "      <td>379173.703723</td>\n",
       "    </tr>\n",
       "    <tr>\n",
       "      <th>11000</th>\n",
       "      <td>168238.0</td>\n",
       "      <td>379173.703723</td>\n",
       "    </tr>\n",
       "    <tr>\n",
       "      <th>11701</th>\n",
       "      <td>473844.0</td>\n",
       "      <td>379173.703723</td>\n",
       "    </tr>\n",
       "  </tbody>\n",
       "</table>\n",
       "</div>"
      ],
      "text/plain": [
       "       value_assessed  value_assessed_pred_mean\n",
       "11646        164898.0             379173.703723\n",
       "3981         883229.0             379173.703723\n",
       "20964        165519.0             379173.703723\n",
       "11000        168238.0             379173.703723\n",
       "11701        473844.0             379173.703723"
      ]
     },
     "execution_count": 82,
     "metadata": {},
     "output_type": "execute_result"
    }
   ],
   "source": [
    "y_train.head()"
   ]
  },
  {
   "cell_type": "code",
   "execution_count": 83,
   "metadata": {},
   "outputs": [
    {
     "name": "stdout",
     "output_type": "stream",
     "text": [
      "RMSE using Mean\n",
      "Train/In-Sample:  250181.88 \n",
      "Validate/Out-of-Sample:  249144.58\n"
     ]
    }
   ],
   "source": [
    "# 2. RMSE of value_assessed_pred_mean\n",
    "\n",
    "#root mean squared error of the predicted mean\n",
    "rmse_train = mean_squared_error(y_train.value_assessed, y_train.value_assessed_pred_mean)**(1/2)\n",
    "rmse_validate = mean_squared_error(y_validate.value_assessed, y_validate.value_assessed_pred_mean)**(1/2)\n",
    "print(\"RMSE using Mean\\nTrain/In-Sample: \", round(rmse_train, 2), \n",
    "      \"\\nValidate/Out-of-Sample: \", round(rmse_validate, 2))"
   ]
  },
  {
   "cell_type": "code",
   "execution_count": 84,
   "metadata": {},
   "outputs": [
    {
     "data": {
      "text/html": [
       "<div>\n",
       "<style scoped>\n",
       "    .dataframe tbody tr th:only-of-type {\n",
       "        vertical-align: middle;\n",
       "    }\n",
       "\n",
       "    .dataframe tbody tr th {\n",
       "        vertical-align: top;\n",
       "    }\n",
       "\n",
       "    .dataframe thead th {\n",
       "        text-align: right;\n",
       "    }\n",
       "</style>\n",
       "<table border=\"1\" class=\"dataframe\">\n",
       "  <thead>\n",
       "    <tr style=\"text-align: right;\">\n",
       "      <th></th>\n",
       "      <th>model</th>\n",
       "      <th>rmse_train</th>\n",
       "      <th>rmse_validate</th>\n",
       "      <th>r^2_validate</th>\n",
       "    </tr>\n",
       "  </thead>\n",
       "  <tbody>\n",
       "    <tr>\n",
       "      <th>0</th>\n",
       "      <td>mean_baseline</td>\n",
       "      <td>250181.876924</td>\n",
       "      <td>249144.577291</td>\n",
       "      <td>0.0</td>\n",
       "    </tr>\n",
       "  </tbody>\n",
       "</table>\n",
       "</div>"
      ],
      "text/plain": [
       "           model     rmse_train  rmse_validate  r^2_validate\n",
       "0  mean_baseline  250181.876924  249144.577291           0.0"
      ]
     },
     "execution_count": 84,
     "metadata": {},
     "output_type": "execute_result"
    }
   ],
   "source": [
    "#create a dataframe to make data easier to visualize/understand\n",
    "metric_df = pd.DataFrame(data=[{\n",
    "    'model': 'mean_baseline',\n",
    "    'rmse_train': rmse_train,\n",
    "    'rmse_validate': rmse_validate,\n",
    "    'r^2_validate': explained_variance_score(y_validate.value_assessed, y_validate.value_assessed_pred_mean)}])\n",
    "\n",
    "metric_df\n",
    "#we now have out baseline model to work off of"
   ]
  },
  {
   "cell_type": "markdown",
   "metadata": {},
   "source": [
    "<hr style=\"border:2px solid black\"> </hr>"
   ]
  },
  {
   "cell_type": "markdown",
   "metadata": {},
   "source": [
    "## Linear Regression Model"
   ]
  },
  {
   "cell_type": "code",
   "execution_count": 85,
   "metadata": {},
   "outputs": [
    {
     "data": {
      "text/html": [
       "<div>\n",
       "<style scoped>\n",
       "    .dataframe tbody tr th:only-of-type {\n",
       "        vertical-align: middle;\n",
       "    }\n",
       "\n",
       "    .dataframe tbody tr th {\n",
       "        vertical-align: top;\n",
       "    }\n",
       "\n",
       "    .dataframe thead th {\n",
       "        text-align: right;\n",
       "    }\n",
       "</style>\n",
       "<table border=\"1\" class=\"dataframe\">\n",
       "  <thead>\n",
       "    <tr style=\"text-align: right;\">\n",
       "      <th></th>\n",
       "      <th>total_sqft</th>\n",
       "      <th>bedrooms</th>\n",
       "      <th>bathrooms</th>\n",
       "      <th>year_built</th>\n",
       "      <th>county_code</th>\n",
       "      <th>parcelid</th>\n",
       "      <th>tax_rate</th>\n",
       "    </tr>\n",
       "  </thead>\n",
       "  <tbody>\n",
       "    <tr>\n",
       "      <th>11646</th>\n",
       "      <td>0.237617</td>\n",
       "      <td>3.0</td>\n",
       "      <td>1.0</td>\n",
       "      <td>0.496183</td>\n",
       "      <td>6037.0</td>\n",
       "      <td>12475415</td>\n",
       "      <td>0.012821</td>\n",
       "    </tr>\n",
       "    <tr>\n",
       "      <th>3981</th>\n",
       "      <td>0.998381</td>\n",
       "      <td>3.0</td>\n",
       "      <td>3.0</td>\n",
       "      <td>0.809160</td>\n",
       "      <td>6059.0</td>\n",
       "      <td>14498746</td>\n",
       "      <td>0.010243</td>\n",
       "    </tr>\n",
       "    <tr>\n",
       "      <th>20964</th>\n",
       "      <td>0.732923</td>\n",
       "      <td>3.0</td>\n",
       "      <td>3.0</td>\n",
       "      <td>0.908397</td>\n",
       "      <td>6037.0</td>\n",
       "      <td>11215841</td>\n",
       "      <td>0.025229</td>\n",
       "    </tr>\n",
       "    <tr>\n",
       "      <th>11000</th>\n",
       "      <td>0.617028</td>\n",
       "      <td>4.0</td>\n",
       "      <td>3.0</td>\n",
       "      <td>0.664122</td>\n",
       "      <td>6037.0</td>\n",
       "      <td>11187703</td>\n",
       "      <td>0.016116</td>\n",
       "    </tr>\n",
       "    <tr>\n",
       "      <th>11701</th>\n",
       "      <td>0.622208</td>\n",
       "      <td>4.0</td>\n",
       "      <td>3.0</td>\n",
       "      <td>0.801527</td>\n",
       "      <td>6037.0</td>\n",
       "      <td>11345383</td>\n",
       "      <td>0.013420</td>\n",
       "    </tr>\n",
       "  </tbody>\n",
       "</table>\n",
       "</div>"
      ],
      "text/plain": [
       "       total_sqft  bedrooms  bathrooms  year_built  county_code  parcelid  \\\n",
       "11646    0.237617       3.0        1.0    0.496183       6037.0  12475415   \n",
       "3981     0.998381       3.0        3.0    0.809160       6059.0  14498746   \n",
       "20964    0.732923       3.0        3.0    0.908397       6037.0  11215841   \n",
       "11000    0.617028       4.0        3.0    0.664122       6037.0  11187703   \n",
       "11701    0.622208       4.0        3.0    0.801527       6037.0  11345383   \n",
       "\n",
       "       tax_rate  \n",
       "11646  0.012821  \n",
       "3981   0.010243  \n",
       "20964  0.025229  \n",
       "11000  0.016116  \n",
       "11701  0.013420  "
      ]
     },
     "execution_count": 85,
     "metadata": {},
     "output_type": "execute_result"
    }
   ],
   "source": [
    "#take a look at all the columns in X_train_scaled\n",
    "#from RFE and SelectKBest... we'll determine which columns to actually model\n",
    "X_train_scaled.head()"
   ]
  },
  {
   "cell_type": "code",
   "execution_count": 86,
   "metadata": {},
   "outputs": [],
   "source": [
    "#set X_train_scaled to drivers only\n",
    "#we do not want to include all columns in this because it could cause overfitting\n",
    "drivers_train = X_train_scaled[['total_sqft', 'bedrooms', 'bathrooms']]"
   ]
  },
  {
   "cell_type": "code",
   "execution_count": 87,
   "metadata": {},
   "outputs": [],
   "source": [
    "#set X_validate_scaled to drivers only\n",
    "drivers_validate= X_validate_scaled[['total_sqft', 'bedrooms', 'bathrooms']]"
   ]
  },
  {
   "cell_type": "code",
   "execution_count": 88,
   "metadata": {},
   "outputs": [],
   "source": [
    "#set X_test_scaled to drivers only\n",
    "drivers_test= X_test_scaled[['total_sqft', 'bedrooms', 'bathrooms']]"
   ]
  },
  {
   "cell_type": "code",
   "execution_count": 89,
   "metadata": {},
   "outputs": [
    {
     "data": {
      "text/plain": [
       "LinearRegression(normalize=True)"
      ]
     },
     "execution_count": 89,
     "metadata": {},
     "output_type": "execute_result"
    }
   ],
   "source": [
    "#create the model \n",
    "lm = LinearRegression(normalize=True)\n",
    "\n",
    "#fit\n",
    "lm.fit(drivers_train, y_train.value_assessed)"
   ]
  },
  {
   "cell_type": "code",
   "execution_count": 90,
   "metadata": {},
   "outputs": [],
   "source": [
    "# predict train\n",
    "y_train['value_assessed_pred_lm'] = lm.predict(drivers_train)"
   ]
  },
  {
   "cell_type": "code",
   "execution_count": 91,
   "metadata": {},
   "outputs": [],
   "source": [
    "# evaluate: rmse\n",
    "rmse_train = mean_squared_error(y_train.value_assessed, y_train.value_assessed_pred_lm)**(1/2)"
   ]
  },
  {
   "cell_type": "code",
   "execution_count": 92,
   "metadata": {},
   "outputs": [],
   "source": [
    "# predict validate\n",
    "y_validate['value_assessed_pred_lm'] = lm.predict(drivers_validate)"
   ]
  },
  {
   "cell_type": "code",
   "execution_count": 93,
   "metadata": {},
   "outputs": [],
   "source": [
    "# evaluate: rmse\n",
    "rmse_validate = mean_squared_error(y_validate.value_assessed, y_validate.value_assessed_pred_lm)**(1/2)"
   ]
  },
  {
   "cell_type": "code",
   "execution_count": 94,
   "metadata": {},
   "outputs": [
    {
     "name": "stdout",
     "output_type": "stream",
     "text": [
      "RMSE for OLS using LinearRegression\n",
      "Training/In-Sample:  221563.06911626377 \n",
      "Validation/Out-of-Sample:  220793.76494279603\n"
     ]
    }
   ],
   "source": [
    "print(\"RMSE for OLS using LinearRegression\\nTraining/In-Sample: \", rmse_train, \n",
    "      \"\\nValidation/Out-of-Sample: \", rmse_validate)"
   ]
  },
  {
   "cell_type": "code",
   "execution_count": 95,
   "metadata": {},
   "outputs": [
    {
     "data": {
      "text/html": [
       "<div>\n",
       "<style scoped>\n",
       "    .dataframe tbody tr th:only-of-type {\n",
       "        vertical-align: middle;\n",
       "    }\n",
       "\n",
       "    .dataframe tbody tr th {\n",
       "        vertical-align: top;\n",
       "    }\n",
       "\n",
       "    .dataframe thead th {\n",
       "        text-align: right;\n",
       "    }\n",
       "</style>\n",
       "<table border=\"1\" class=\"dataframe\">\n",
       "  <thead>\n",
       "    <tr style=\"text-align: right;\">\n",
       "      <th></th>\n",
       "      <th>model</th>\n",
       "      <th>rmse_train</th>\n",
       "      <th>rmse_validate</th>\n",
       "      <th>r^2_validate</th>\n",
       "    </tr>\n",
       "  </thead>\n",
       "  <tbody>\n",
       "    <tr>\n",
       "      <th>0</th>\n",
       "      <td>mean_baseline</td>\n",
       "      <td>250181.876924</td>\n",
       "      <td>249144.577291</td>\n",
       "      <td>0.000000</td>\n",
       "    </tr>\n",
       "    <tr>\n",
       "      <th>1</th>\n",
       "      <td>OLS Model</td>\n",
       "      <td>221563.069116</td>\n",
       "      <td>220793.764943</td>\n",
       "      <td>0.214647</td>\n",
       "    </tr>\n",
       "  </tbody>\n",
       "</table>\n",
       "</div>"
      ],
      "text/plain": [
       "           model     rmse_train  rmse_validate  r^2_validate\n",
       "0  mean_baseline  250181.876924  249144.577291      0.000000\n",
       "1      OLS Model  221563.069116  220793.764943      0.214647"
      ]
     },
     "execution_count": 95,
     "metadata": {},
     "output_type": "execute_result"
    }
   ],
   "source": [
    "#create visual to see baseline vs LinearRegression model\n",
    "metric_df = metric_df.append(\n",
    "    {\n",
    "    'model': 'OLS Model',\n",
    "    'rmse_train': rmse_train,\n",
    "    'rmse_validate': rmse_validate,\n",
    "    'r^2_validate': explained_variance_score(y_validate.value_assessed, y_validate.value_assessed_pred_lm)}, ignore_index=True)\n",
    "\n",
    "metric_df"
   ]
  },
  {
   "cell_type": "markdown",
   "metadata": {},
   "source": [
    "<hr style=\"border:2px solid black\"> </hr>"
   ]
  },
  {
   "cell_type": "markdown",
   "metadata": {},
   "source": [
    "## LassoLars Model"
   ]
  },
  {
   "cell_type": "code",
   "execution_count": 96,
   "metadata": {},
   "outputs": [
    {
     "name": "stdout",
     "output_type": "stream",
     "text": [
      "RMSE for Lasso + Lars\n",
      "Training/In-Sample:  221569.4107244009 \n",
      "Validation/Out-of-Sample:  220802.94291882098\n"
     ]
    }
   ],
   "source": [
    "# create the model object\n",
    "lars = LassoLars(alpha= 6)\n",
    "\n",
    "# fit the model to our training data. We must specify the column in y_train, \n",
    "# since we have converted it to a dataframe from a series! \n",
    "lars.fit(drivers_train, y_train.value_assessed)\n",
    "\n",
    "# predict train\n",
    "y_train['value_assessed_pred_lars'] = lars.predict(drivers_train)\n",
    "\n",
    "# evaluate: rmse\n",
    "rmse_train = mean_squared_error(y_train.value_assessed, y_train.value_assessed_pred_lars)**(1/2)\n",
    "\n",
    "# predict validate\n",
    "y_validate['value_assessed_pred_lars'] = lars.predict(drivers_validate)\n",
    "\n",
    "# evaluate: rmse\n",
    "rmse_validate = mean_squared_error(y_validate.value_assessed, y_validate.value_assessed_pred_lars)**(1/2)\n",
    "\n",
    "print(\"RMSE for Lasso + Lars\\nTraining/In-Sample: \", rmse_train, \n",
    "      \"\\nValidation/Out-of-Sample: \", rmse_validate)"
   ]
  },
  {
   "cell_type": "code",
   "execution_count": 97,
   "metadata": {},
   "outputs": [
    {
     "data": {
      "text/html": [
       "<div>\n",
       "<style scoped>\n",
       "    .dataframe tbody tr th:only-of-type {\n",
       "        vertical-align: middle;\n",
       "    }\n",
       "\n",
       "    .dataframe tbody tr th {\n",
       "        vertical-align: top;\n",
       "    }\n",
       "\n",
       "    .dataframe thead th {\n",
       "        text-align: right;\n",
       "    }\n",
       "</style>\n",
       "<table border=\"1\" class=\"dataframe\">\n",
       "  <thead>\n",
       "    <tr style=\"text-align: right;\">\n",
       "      <th></th>\n",
       "      <th>model</th>\n",
       "      <th>rmse_train</th>\n",
       "      <th>rmse_validate</th>\n",
       "      <th>r^2_validate</th>\n",
       "    </tr>\n",
       "  </thead>\n",
       "  <tbody>\n",
       "    <tr>\n",
       "      <th>0</th>\n",
       "      <td>mean_baseline</td>\n",
       "      <td>250181.876924</td>\n",
       "      <td>249144.577291</td>\n",
       "      <td>0.000000</td>\n",
       "    </tr>\n",
       "    <tr>\n",
       "      <th>1</th>\n",
       "      <td>OLS Model</td>\n",
       "      <td>221563.069116</td>\n",
       "      <td>220793.764943</td>\n",
       "      <td>0.214647</td>\n",
       "    </tr>\n",
       "    <tr>\n",
       "      <th>2</th>\n",
       "      <td>LassoLars alpha 6</td>\n",
       "      <td>221569.410724</td>\n",
       "      <td>220802.942919</td>\n",
       "      <td>0.214582</td>\n",
       "    </tr>\n",
       "  </tbody>\n",
       "</table>\n",
       "</div>"
      ],
      "text/plain": [
       "               model     rmse_train  rmse_validate  r^2_validate\n",
       "0      mean_baseline  250181.876924  249144.577291      0.000000\n",
       "1          OLS Model  221563.069116  220793.764943      0.214647\n",
       "2  LassoLars alpha 6  221569.410724  220802.942919      0.214582"
      ]
     },
     "execution_count": 97,
     "metadata": {},
     "output_type": "execute_result"
    }
   ],
   "source": [
    "#shows baseline vs LinearRegression vs LassoLars\n",
    "metric_df = metric_df.append(\n",
    "    {\n",
    "    'model': 'LassoLars alpha 6',\n",
    "    'rmse_train': rmse_train,\n",
    "    'rmse_validate': rmse_validate,\n",
    "    'r^2_validate': explained_variance_score(y_validate.value_assessed, y_validate.value_assessed_pred_lars)}, ignore_index=True)\n",
    "\n",
    "metric_df"
   ]
  },
  {
   "cell_type": "markdown",
   "metadata": {},
   "source": [
    "<hr style=\"border:2px solid black\"> </hr>"
   ]
  },
  {
   "cell_type": "markdown",
   "metadata": {},
   "source": [
    "## Tweedie Regressor Model"
   ]
  },
  {
   "cell_type": "code",
   "execution_count": 98,
   "metadata": {},
   "outputs": [
    {
     "name": "stdout",
     "output_type": "stream",
     "text": [
      "RMSE for GLM using Tweedie, power=1 & alpha=0\n",
      "Training/In-Sample:  221538.88993310792 \n",
      "Validation/Out-of-Sample:  220961.42308030082\n"
     ]
    }
   ],
   "source": [
    "# create the model object\n",
    "glm = TweedieRegressor(power=1, alpha=0)\n",
    "\n",
    "# fit the model to our training data. We must specify the column in y_train, \n",
    "# since we have converted it to a dataframe from a series! \n",
    "glm.fit(drivers_train, y_train.value_assessed)\n",
    "\n",
    "# predict train\n",
    "y_train['value_assessed_pred_glm'] = glm.predict(drivers_train)\n",
    "\n",
    "# evaluate: rmse\n",
    "rmse_train = mean_squared_error(y_train.value_assessed, y_train.value_assessed_pred_glm)**(1/2)\n",
    "\n",
    "# predict validate\n",
    "y_validate['value_assessed_pred_glm'] = glm.predict(drivers_validate)\n",
    "\n",
    "# evaluate: rmse\n",
    "rmse_validate = mean_squared_error(y_validate.value_assessed, y_validate.value_assessed_pred_glm)**(1/2)\n",
    "\n",
    "print(\"RMSE for GLM using Tweedie, power=1 & alpha=0\\nTraining/In-Sample: \", rmse_train, \n",
    "      \"\\nValidation/Out-of-Sample: \", rmse_validate)"
   ]
  },
  {
   "cell_type": "code",
   "execution_count": 99,
   "metadata": {},
   "outputs": [
    {
     "data": {
      "text/html": [
       "<div>\n",
       "<style scoped>\n",
       "    .dataframe tbody tr th:only-of-type {\n",
       "        vertical-align: middle;\n",
       "    }\n",
       "\n",
       "    .dataframe tbody tr th {\n",
       "        vertical-align: top;\n",
       "    }\n",
       "\n",
       "    .dataframe thead th {\n",
       "        text-align: right;\n",
       "    }\n",
       "</style>\n",
       "<table border=\"1\" class=\"dataframe\">\n",
       "  <thead>\n",
       "    <tr style=\"text-align: right;\">\n",
       "      <th></th>\n",
       "      <th>model</th>\n",
       "      <th>rmse_train</th>\n",
       "      <th>rmse_validate</th>\n",
       "      <th>r^2_validate</th>\n",
       "    </tr>\n",
       "  </thead>\n",
       "  <tbody>\n",
       "    <tr>\n",
       "      <th>0</th>\n",
       "      <td>mean_baseline</td>\n",
       "      <td>250181.876924</td>\n",
       "      <td>249144.577291</td>\n",
       "      <td>0.000000</td>\n",
       "    </tr>\n",
       "    <tr>\n",
       "      <th>1</th>\n",
       "      <td>OLS Model</td>\n",
       "      <td>221563.069116</td>\n",
       "      <td>220793.764943</td>\n",
       "      <td>0.214647</td>\n",
       "    </tr>\n",
       "    <tr>\n",
       "      <th>2</th>\n",
       "      <td>LassoLars alpha 6</td>\n",
       "      <td>221569.410724</td>\n",
       "      <td>220802.942919</td>\n",
       "      <td>0.214582</td>\n",
       "    </tr>\n",
       "    <tr>\n",
       "      <th>3</th>\n",
       "      <td>TweedieRegressor power 1</td>\n",
       "      <td>221538.889933</td>\n",
       "      <td>220961.423080</td>\n",
       "      <td>0.213444</td>\n",
       "    </tr>\n",
       "  </tbody>\n",
       "</table>\n",
       "</div>"
      ],
      "text/plain": [
       "                      model     rmse_train  rmse_validate  r^2_validate\n",
       "0             mean_baseline  250181.876924  249144.577291      0.000000\n",
       "1                 OLS Model  221563.069116  220793.764943      0.214647\n",
       "2         LassoLars alpha 6  221569.410724  220802.942919      0.214582\n",
       "3  TweedieRegressor power 1  221538.889933  220961.423080      0.213444"
      ]
     },
     "execution_count": 99,
     "metadata": {},
     "output_type": "execute_result"
    }
   ],
   "source": [
    "#compares all four models\n",
    "metric_df = metric_df.append(\n",
    "    {\n",
    "    'model': 'TweedieRegressor power 1',\n",
    "    'rmse_train': rmse_train,\n",
    "    'rmse_validate': rmse_validate,\n",
    "    'r^2_validate': explained_variance_score(y_validate.value_assessed, y_validate.value_assessed_pred_glm)}, ignore_index=True)\n",
    "\n",
    "metric_df"
   ]
  },
  {
   "cell_type": "code",
   "execution_count": 114,
   "metadata": {},
   "outputs": [
    {
     "data": {
      "image/png": "[encoded data removed]",
      "text/plain": [
       "<Figure size 1152x576 with 1 Axes>"
      ]
     },
     "metadata": {
      "needs_background": "light"
     },
     "output_type": "display_data"
    }
   ],
   "source": [
    "# plot to visualize actual vs predicted. \n",
    "plt.figure(figsize=(16,8))\n",
    "plt.hist(y_validate.value_assessed, color='blue', alpha=.5, label=\"Actual value_assessed\")\n",
    "plt.hist(y_validate.value_assessed_pred_lm, color='red', alpha=.5, label=\"Model: OLS\")\n",
    "plt.hist(y_validate.value_assessed_pred_glm, color='yellow', alpha=.5, label=\"Model: TweedieRegressor\")\n",
    "plt.hist(y_validate.value_assessed_pred_lars, color='green', alpha=.5, label=\"Model: LassoLars\")\n",
    "plt.xlabel(\"Assessed Value\")\n",
    "plt.ylabel(\"Number of Homes\")\n",
    "plt.title(\"Distribution of Actual Values vs Predicted Assessed Value for Top Performing Models\")\n",
    "plt.legend()\n",
    "plt.show()"
   ]
  },
  {
   "cell_type": "markdown",
   "metadata": {},
   "source": [
    "### Use Test set on Best Performing Model"
   ]
  },
  {
   "cell_type": "code",
   "execution_count": 101,
   "metadata": {},
   "outputs": [
    {
     "name": "stdout",
     "output_type": "stream",
     "text": [
      "RMSE for OLS Model using LinearRegression\n",
      "Out-of-Sample Performance:  220334.2507070478\n"
     ]
    }
   ],
   "source": [
    "y_test = pd.DataFrame(y_test)\n",
    "\n",
    "# predict on test\n",
    "y_test['value_assessed_pred_lm'] = lm.predict(drivers_test)\n",
    "\n",
    "# evaluate: rmse\n",
    "rmse_test = mean_squared_error(y_test.value_assessed, y_test.value_assessed_pred_lm)**(1/2)\n",
    "\n",
    "print(\"RMSE for OLS Model using LinearRegression\\nOut-of-Sample Performance: \", rmse_test)"
   ]
  },
  {
   "cell_type": "markdown",
   "metadata": {},
   "source": [
    "### Takeaways from Modeling:\n",
    "- Linear Regression model performs better than the baseline and other predictive models"
   ]
  },
  {
   "cell_type": "markdown",
   "metadata": {},
   "source": [
    "<hr style=\"border:2px solid black\"> </hr>"
   ]
  },
  {
   "cell_type": "markdown",
   "metadata": {},
   "source": [
    "## Tax_Rate per county"
   ]
  },
  {
   "cell_type": "markdown",
   "metadata": {},
   "source": [
    "-graphs that shows distribution per county"
   ]
  },
  {
   "cell_type": "code",
   "execution_count": 102,
   "metadata": {},
   "outputs": [
    {
     "data": {
      "text/plain": [
       "array([6037., 6059., 6111.])"
      ]
     },
     "execution_count": 102,
     "metadata": {},
     "output_type": "execute_result"
    }
   ],
   "source": [
    "#this shows all the counties\n",
    "df.county_code.unique()"
   ]
  },
  {
   "cell_type": "code",
   "execution_count": 103,
   "metadata": {},
   "outputs": [
    {
     "data": {
      "text/plain": [
       "6037.0    15636\n",
       "6059.0     6617\n",
       "6111.0     2357\n",
       "Name: county_code, dtype: int64"
      ]
     },
     "execution_count": 103,
     "metadata": {},
     "output_type": "execute_result"
    }
   ],
   "source": [
    "#number of homes per county\n",
    "df['county_code'].value_counts()"
   ]
  },
  {
   "cell_type": "code",
   "execution_count": 104,
   "metadata": {},
   "outputs": [
    {
     "data": {
      "image/png": "[encoded data removed]",
      "text/plain": [
       "<Figure size 1008x720 with 1 Axes>"
      ]
     },
     "metadata": {
      "needs_background": "light"
     },
     "output_type": "display_data"
    }
   ],
   "source": [
    "#plot tax rate by county\n",
    "plt.figure(figsize=(14,10))\n",
    "sns.histplot(data=df, x=\"tax_rate\", hue=\"county_code\", kde = False, bins = 750, palette = \"Set2\")\n",
    "\n",
    "plt.title('Tax Rate by County')\n",
    "plt.ylabel('Number of Homes')\n",
    "plt.xlabel('Tax Rate')\n",
    "plt.xlim(0, 0.035)\n",
    "plt.show()"
   ]
  },
  {
   "cell_type": "code",
   "execution_count": 105,
   "metadata": {},
   "outputs": [
    {
     "data": {
      "text/html": [
       "<div>\n",
       "<style scoped>\n",
       "    .dataframe tbody tr th:only-of-type {\n",
       "        vertical-align: middle;\n",
       "    }\n",
       "\n",
       "    .dataframe tbody tr th {\n",
       "        vertical-align: top;\n",
       "    }\n",
       "\n",
       "    .dataframe thead th {\n",
       "        text-align: right;\n",
       "    }\n",
       "</style>\n",
       "<table border=\"1\" class=\"dataframe\">\n",
       "  <thead>\n",
       "    <tr style=\"text-align: right;\">\n",
       "      <th></th>\n",
       "      <th>total_sqft</th>\n",
       "      <th>bedrooms</th>\n",
       "      <th>bathrooms</th>\n",
       "      <th>value_assessed</th>\n",
       "      <th>tax_amount</th>\n",
       "      <th>year_built</th>\n",
       "      <th>county_code</th>\n",
       "      <th>parcelid</th>\n",
       "      <th>tax_rate</th>\n",
       "    </tr>\n",
       "  </thead>\n",
       "  <tbody>\n",
       "    <tr>\n",
       "      <th>0</th>\n",
       "      <td>1316.0</td>\n",
       "      <td>3.0</td>\n",
       "      <td>2.0</td>\n",
       "      <td>205123.0</td>\n",
       "      <td>2627.48</td>\n",
       "      <td>1923.0</td>\n",
       "      <td>6037.0</td>\n",
       "      <td>11721753</td>\n",
       "      <td>0.012809</td>\n",
       "    </tr>\n",
       "    <tr>\n",
       "      <th>1</th>\n",
       "      <td>1458.0</td>\n",
       "      <td>3.0</td>\n",
       "      <td>2.0</td>\n",
       "      <td>136104.0</td>\n",
       "      <td>2319.90</td>\n",
       "      <td>1970.0</td>\n",
       "      <td>6037.0</td>\n",
       "      <td>11289917</td>\n",
       "      <td>0.017045</td>\n",
       "    </tr>\n",
       "    <tr>\n",
       "      <th>2</th>\n",
       "      <td>1421.0</td>\n",
       "      <td>2.0</td>\n",
       "      <td>1.0</td>\n",
       "      <td>35606.0</td>\n",
       "      <td>543.69</td>\n",
       "      <td>1911.0</td>\n",
       "      <td>6037.0</td>\n",
       "      <td>11705026</td>\n",
       "      <td>0.015270</td>\n",
       "    </tr>\n",
       "    <tr>\n",
       "      <th>3</th>\n",
       "      <td>2541.0</td>\n",
       "      <td>4.0</td>\n",
       "      <td>3.0</td>\n",
       "      <td>880456.0</td>\n",
       "      <td>9819.72</td>\n",
       "      <td>2003.0</td>\n",
       "      <td>6059.0</td>\n",
       "      <td>14269464</td>\n",
       "      <td>0.011153</td>\n",
       "    </tr>\n",
       "    <tr>\n",
       "      <th>4</th>\n",
       "      <td>1491.0</td>\n",
       "      <td>3.0</td>\n",
       "      <td>2.0</td>\n",
       "      <td>107110.0</td>\n",
       "      <td>1399.27</td>\n",
       "      <td>1955.0</td>\n",
       "      <td>6037.0</td>\n",
       "      <td>11446756</td>\n",
       "      <td>0.013064</td>\n",
       "    </tr>\n",
       "  </tbody>\n",
       "</table>\n",
       "</div>"
      ],
      "text/plain": [
       "   total_sqft  bedrooms  bathrooms  value_assessed  tax_amount  year_built  \\\n",
       "0      1316.0       3.0        2.0        205123.0     2627.48      1923.0   \n",
       "1      1458.0       3.0        2.0        136104.0     2319.90      1970.0   \n",
       "2      1421.0       2.0        1.0         35606.0      543.69      1911.0   \n",
       "3      2541.0       4.0        3.0        880456.0     9819.72      2003.0   \n",
       "4      1491.0       3.0        2.0        107110.0     1399.27      1955.0   \n",
       "\n",
       "   county_code  parcelid  tax_rate  \n",
       "0       6037.0  11721753  0.012809  \n",
       "1       6037.0  11289917  0.017045  \n",
       "2       6037.0  11705026  0.015270  \n",
       "3       6059.0  14269464  0.011153  \n",
       "4       6037.0  11446756  0.013064  "
      ]
     },
     "execution_count": 105,
     "metadata": {},
     "output_type": "execute_result"
    }
   ],
   "source": [
    "df.head()"
   ]
  },
  {
   "cell_type": "code",
   "execution_count": 106,
   "metadata": {},
   "outputs": [],
   "source": [
    "#turn county code into a string\n",
    "df['county_code'] = df['county_code'].astype(str)\n",
    "\n",
    "#if county code has a 6 as the first number, create column called state and add california\n",
    "df.loc[df['county_code'].str[0] == '6', 'state'] = 'California'\n",
    "\n",
    "#if county code contrains 111, create column called county and add ventura\n",
    "df.loc[df['county_code'].str.contains('111'), 'county'] = 'Ventura'\n",
    "\n",
    "#if county code contrains 037, create column called county and add los angeles\n",
    "df.loc[df['county_code'].str.contains('037'), 'county'] = 'Los Angeles'\n",
    "\n",
    "#if county code contrains 059, create column called county and add orange\n",
    "df.loc[df['county_code'].str.contains('059'), 'county'] = 'Orange'\n",
    "\n",
    "#change dtype back to float\n",
    "df['county_code'] = df['county_code'].astype(float)"
   ]
  },
  {
   "cell_type": "code",
   "execution_count": 107,
   "metadata": {},
   "outputs": [
    {
     "data": {
      "text/html": [
       "<div>\n",
       "<style scoped>\n",
       "    .dataframe tbody tr th:only-of-type {\n",
       "        vertical-align: middle;\n",
       "    }\n",
       "\n",
       "    .dataframe tbody tr th {\n",
       "        vertical-align: top;\n",
       "    }\n",
       "\n",
       "    .dataframe thead th {\n",
       "        text-align: right;\n",
       "    }\n",
       "</style>\n",
       "<table border=\"1\" class=\"dataframe\">\n",
       "  <thead>\n",
       "    <tr style=\"text-align: right;\">\n",
       "      <th></th>\n",
       "      <th>total_sqft</th>\n",
       "      <th>bedrooms</th>\n",
       "      <th>bathrooms</th>\n",
       "      <th>value_assessed</th>\n",
       "      <th>tax_amount</th>\n",
       "      <th>year_built</th>\n",
       "      <th>county_code</th>\n",
       "      <th>parcelid</th>\n",
       "      <th>tax_rate</th>\n",
       "      <th>state</th>\n",
       "      <th>county</th>\n",
       "    </tr>\n",
       "  </thead>\n",
       "  <tbody>\n",
       "    <tr>\n",
       "      <th>0</th>\n",
       "      <td>1316.0</td>\n",
       "      <td>3.0</td>\n",
       "      <td>2.0</td>\n",
       "      <td>205123.0</td>\n",
       "      <td>2627.48</td>\n",
       "      <td>1923.0</td>\n",
       "      <td>6037.0</td>\n",
       "      <td>11721753</td>\n",
       "      <td>0.012809</td>\n",
       "      <td>California</td>\n",
       "      <td>Los Angeles</td>\n",
       "    </tr>\n",
       "    <tr>\n",
       "      <th>1</th>\n",
       "      <td>1458.0</td>\n",
       "      <td>3.0</td>\n",
       "      <td>2.0</td>\n",
       "      <td>136104.0</td>\n",
       "      <td>2319.90</td>\n",
       "      <td>1970.0</td>\n",
       "      <td>6037.0</td>\n",
       "      <td>11289917</td>\n",
       "      <td>0.017045</td>\n",
       "      <td>California</td>\n",
       "      <td>Los Angeles</td>\n",
       "    </tr>\n",
       "    <tr>\n",
       "      <th>2</th>\n",
       "      <td>1421.0</td>\n",
       "      <td>2.0</td>\n",
       "      <td>1.0</td>\n",
       "      <td>35606.0</td>\n",
       "      <td>543.69</td>\n",
       "      <td>1911.0</td>\n",
       "      <td>6037.0</td>\n",
       "      <td>11705026</td>\n",
       "      <td>0.015270</td>\n",
       "      <td>California</td>\n",
       "      <td>Los Angeles</td>\n",
       "    </tr>\n",
       "    <tr>\n",
       "      <th>3</th>\n",
       "      <td>2541.0</td>\n",
       "      <td>4.0</td>\n",
       "      <td>3.0</td>\n",
       "      <td>880456.0</td>\n",
       "      <td>9819.72</td>\n",
       "      <td>2003.0</td>\n",
       "      <td>6059.0</td>\n",
       "      <td>14269464</td>\n",
       "      <td>0.011153</td>\n",
       "      <td>California</td>\n",
       "      <td>Orange</td>\n",
       "    </tr>\n",
       "    <tr>\n",
       "      <th>4</th>\n",
       "      <td>1491.0</td>\n",
       "      <td>3.0</td>\n",
       "      <td>2.0</td>\n",
       "      <td>107110.0</td>\n",
       "      <td>1399.27</td>\n",
       "      <td>1955.0</td>\n",
       "      <td>6037.0</td>\n",
       "      <td>11446756</td>\n",
       "      <td>0.013064</td>\n",
       "      <td>California</td>\n",
       "      <td>Los Angeles</td>\n",
       "    </tr>\n",
       "  </tbody>\n",
       "</table>\n",
       "</div>"
      ],
      "text/plain": [
       "   total_sqft  bedrooms  bathrooms  value_assessed  tax_amount  year_built  \\\n",
       "0      1316.0       3.0        2.0        205123.0     2627.48      1923.0   \n",
       "1      1458.0       3.0        2.0        136104.0     2319.90      1970.0   \n",
       "2      1421.0       2.0        1.0         35606.0      543.69      1911.0   \n",
       "3      2541.0       4.0        3.0        880456.0     9819.72      2003.0   \n",
       "4      1491.0       3.0        2.0        107110.0     1399.27      1955.0   \n",
       "\n",
       "   county_code  parcelid  tax_rate       state       county  \n",
       "0       6037.0  11721753  0.012809  California  Los Angeles  \n",
       "1       6037.0  11289917  0.017045  California  Los Angeles  \n",
       "2       6037.0  11705026  0.015270  California  Los Angeles  \n",
       "3       6059.0  14269464  0.011153  California       Orange  \n",
       "4       6037.0  11446756  0.013064  California  Los Angeles  "
      ]
     },
     "execution_count": 107,
     "metadata": {},
     "output_type": "execute_result"
    }
   ],
   "source": [
    "#make sure that state and county columns are created\n",
    "df.head()"
   ]
  },
  {
   "cell_type": "code",
   "execution_count": 108,
   "metadata": {},
   "outputs": [],
   "source": [
    "df_rates_county = df[['parcelid', 'county_code', 'state', 'county', 'tax_rate']]"
   ]
  },
  {
   "cell_type": "code",
   "execution_count": 109,
   "metadata": {},
   "outputs": [],
   "source": [
    "df_rates_county.to_csv('rates_and_county.csv')"
   ]
  },
  {
   "cell_type": "code",
   "execution_count": 110,
   "metadata": {},
   "outputs": [],
   "source": [
    "# average tax rate PER county\n",
    "average_tax_rate = df.groupby('county_code')['tax_rate'].mean()"
   ]
  },
  {
   "cell_type": "code",
   "execution_count": 111,
   "metadata": {},
   "outputs": [],
   "source": [
    "average_tax_rate.to_csv('average_tax_rate_by_county.csv')"
   ]
  },
  {
   "cell_type": "code",
   "execution_count": 112,
   "metadata": {},
   "outputs": [
    {
     "data": {
      "text/plain": [
       "county_code\n",
       "6037.0    0.014262\n",
       "6059.0    0.012173\n",
       "6111.0    0.011821\n",
       "Name: tax_rate, dtype: float64"
      ]
     },
     "execution_count": 112,
     "metadata": {},
     "output_type": "execute_result"
    }
   ],
   "source": [
    "average_tax_rate"
   ]
  },
  {
   "cell_type": "code",
   "execution_count": 113,
   "metadata": {},
   "outputs": [
    {
     "data": {
      "image/png": "[encoded data removed]",
      "text/plain": [
       "<Figure size 432x288 with 1 Axes>"
      ]
     },
     "metadata": {
      "needs_background": "light"
     },
     "output_type": "display_data"
    }
   ],
   "source": [
    "#distribution of target \n",
    "sns.histplot(data=y_train.value_assessed, kde = True)\n",
    "plt.title('Distribution of Assessed Values')\n",
    "plt.show()"
   ]
  },
  {
   "cell_type": "code",
   "execution_count": null,
   "metadata": {},
   "outputs": [],
   "source": []
  }
 ],
 "metadata": {
  "kernelspec": {
   "display_name": "Python 3",
   "language": "python",
   "name": "python3"
  },
  "language_info": {
   "codemirror_mode": {
    "name": "ipython",
    "version": 3
   },
   "file_extension": ".py",
   "mimetype": "text/x-python",
   "name": "python",
   "nbconvert_exporter": "python",
   "pygments_lexer": "ipython3",
   "version": "3.8.5"
  }
 },
 "nbformat": 4,
 "nbformat_minor": 4
}
