{
 "cells": [
  {
   "cell_type": "code",
   "execution_count": 1,
   "metadata": {},
   "outputs": [],
   "source": [
    "from env import host, user, password\n",
    "import acquire\n",
    "import prepare\n",
    "import wrangle"
   ]
  },
  {
   "cell_type": "code",
   "execution_count": 2,
   "metadata": {},
   "outputs": [],
   "source": [
    "import matplotlib.pyplot as plt\n",
    "import pandas as pd\n",
    "import seaborn as sns\n",
    "import numpy as np"
   ]
  },
  {
   "cell_type": "markdown",
   "metadata": {},
   "source": [
    "# Acquire"
   ]
  },
  {
   "cell_type": "code",
   "execution_count": 3,
   "metadata": {},
   "outputs": [],
   "source": [
    "def get_connection(db_name):\n",
    "    '''\n",
    "    This function uses my info from my env file to\n",
    "    create a connection url to access the Codeup db.\n",
    "    '''\n",
    "    from env import host, user, password\n",
    "    return f'mysql+pymysql://{user}:{password}@{host}/{db_name}'"
   ]
  },
  {
   "cell_type": "code",
   "execution_count": 4,
   "metadata": {},
   "outputs": [],
   "source": [
    "def get_zillow():\n",
    "    '''\n",
    "    This function reads in the Zillow data from the Codeup db\n",
    "    with properties_2017, predictions_2017 and propertylandusetype tables joined\n",
    "    returns: a pandas DataFrame \n",
    "    '''\n",
    "    \n",
    "    zp_query = '''\n",
    "    SELECT calculatedfinishedsquarefeet, bedroomcnt, bathroomcnt, taxvaluedollarcnt, taxamount, yearbuilt, fips, properties_2017.parcelid\n",
    "    FROM properties_2017\n",
    "    JOIN predictions_2017 ON properties_2017.parcelid = predictions_2017.parcelid\n",
    "    JOIN propertylandusetype ON properties_2017.propertylandusetypeid= propertylandusetype.propertylandusetypeid\n",
    "    WHERE predictions_2017.transactiondate BETWEEN '2017-05-01' AND '2017-08-31' AND properties_2017.propertylandusetypeid IN (31, 46, 47, 260, 261, 262, 263, 264, 265, 268, 273, 274, 275, 276, 279);\n",
    "    '''\n",
    "    return pd.read_sql(zp_query, get_connection('zillow'))"
   ]
  },
  {
   "cell_type": "code",
   "execution_count": 5,
   "metadata": {},
   "outputs": [],
   "source": [
    "df = get_zillow()"
   ]
  },
  {
   "cell_type": "markdown",
   "metadata": {},
   "source": [
    "# Prepare"
   ]
  },
  {
   "cell_type": "code",
   "execution_count": 6,
   "metadata": {},
   "outputs": [
    {
     "data": {
      "text/html": [
       "<div>\n",
       "<style scoped>\n",
       "    .dataframe tbody tr th:only-of-type {\n",
       "        vertical-align: middle;\n",
       "    }\n",
       "\n",
       "    .dataframe tbody tr th {\n",
       "        vertical-align: top;\n",
       "    }\n",
       "\n",
       "    .dataframe thead th {\n",
       "        text-align: right;\n",
       "    }\n",
       "</style>\n",
       "<table border=\"1\" class=\"dataframe\">\n",
       "  <thead>\n",
       "    <tr style=\"text-align: right;\">\n",
       "      <th></th>\n",
       "      <th>calculatedfinishedsquarefeet</th>\n",
       "      <th>bedroomcnt</th>\n",
       "      <th>bathroomcnt</th>\n",
       "      <th>taxvaluedollarcnt</th>\n",
       "      <th>taxamount</th>\n",
       "      <th>yearbuilt</th>\n",
       "      <th>fips</th>\n",
       "      <th>parcelid</th>\n",
       "    </tr>\n",
       "  </thead>\n",
       "  <tbody>\n",
       "    <tr>\n",
       "      <th>0</th>\n",
       "      <td>1316.0</td>\n",
       "      <td>3.0</td>\n",
       "      <td>2.0</td>\n",
       "      <td>205123.0</td>\n",
       "      <td>2627.48</td>\n",
       "      <td>1923.0</td>\n",
       "      <td>6037.0</td>\n",
       "      <td>11721753</td>\n",
       "    </tr>\n",
       "    <tr>\n",
       "      <th>1</th>\n",
       "      <td>1458.0</td>\n",
       "      <td>3.0</td>\n",
       "      <td>2.0</td>\n",
       "      <td>136104.0</td>\n",
       "      <td>2319.90</td>\n",
       "      <td>1970.0</td>\n",
       "      <td>6037.0</td>\n",
       "      <td>11289917</td>\n",
       "    </tr>\n",
       "    <tr>\n",
       "      <th>2</th>\n",
       "      <td>1421.0</td>\n",
       "      <td>2.0</td>\n",
       "      <td>1.0</td>\n",
       "      <td>35606.0</td>\n",
       "      <td>543.69</td>\n",
       "      <td>1911.0</td>\n",
       "      <td>6037.0</td>\n",
       "      <td>11705026</td>\n",
       "    </tr>\n",
       "    <tr>\n",
       "      <th>3</th>\n",
       "      <td>2541.0</td>\n",
       "      <td>4.0</td>\n",
       "      <td>3.0</td>\n",
       "      <td>880456.0</td>\n",
       "      <td>9819.72</td>\n",
       "      <td>2003.0</td>\n",
       "      <td>6059.0</td>\n",
       "      <td>14269464</td>\n",
       "    </tr>\n",
       "    <tr>\n",
       "      <th>4</th>\n",
       "      <td>1491.0</td>\n",
       "      <td>3.0</td>\n",
       "      <td>2.0</td>\n",
       "      <td>107110.0</td>\n",
       "      <td>1399.27</td>\n",
       "      <td>1955.0</td>\n",
       "      <td>6037.0</td>\n",
       "      <td>11446756</td>\n",
       "    </tr>\n",
       "  </tbody>\n",
       "</table>\n",
       "</div>"
      ],
      "text/plain": [
       "   calculatedfinishedsquarefeet  bedroomcnt  bathroomcnt  taxvaluedollarcnt  \\\n",
       "0                        1316.0         3.0          2.0           205123.0   \n",
       "1                        1458.0         3.0          2.0           136104.0   \n",
       "2                        1421.0         2.0          1.0            35606.0   \n",
       "3                        2541.0         4.0          3.0           880456.0   \n",
       "4                        1491.0         3.0          2.0           107110.0   \n",
       "\n",
       "   taxamount  yearbuilt    fips  parcelid  \n",
       "0    2627.48     1923.0  6037.0  11721753  \n",
       "1    2319.90     1970.0  6037.0  11289917  \n",
       "2     543.69     1911.0  6037.0  11705026  \n",
       "3    9819.72     2003.0  6059.0  14269464  \n",
       "4    1399.27     1955.0  6037.0  11446756  "
      ]
     },
     "execution_count": 6,
     "metadata": {},
     "output_type": "execute_result"
    }
   ],
   "source": [
    "df.head()"
   ]
  },
  {
   "cell_type": "code",
   "execution_count": 7,
   "metadata": {},
   "outputs": [],
   "source": [
    "#calculate tax rate\n",
    "df['tax_rate'] =df['taxamount']/  df['taxvaluedollarcnt']"
   ]
  },
  {
   "cell_type": "code",
   "execution_count": 8,
   "metadata": {},
   "outputs": [],
   "source": [
    "#rename columns to make more legible\n",
    "df = df.rename(columns={\"calculatedfinishedsquarefeet\": \"total_sqft\", \"bedroomcnt\": \"bedrooms\", \"bathroomcnt\": \"bathrooms\", \"taxvaluedollarcnt\": \"value_assessed\", \"taxamount\": \"tax_amount\", \"yearbuilt\": \"year_built\", \"fips\": \"county_code\" })"
   ]
  },
  {
   "cell_type": "code",
   "execution_count": 9,
   "metadata": {},
   "outputs": [
    {
     "name": "stdout",
     "output_type": "stream",
     "text": [
      "<class 'pandas.core.frame.DataFrame'>\n",
      "RangeIndex: 28418 entries, 0 to 28417\n",
      "Data columns (total 9 columns):\n",
      " #   Column          Non-Null Count  Dtype  \n",
      "---  ------          --------------  -----  \n",
      " 0   total_sqft      28345 non-null  float64\n",
      " 1   bedrooms        28418 non-null  float64\n",
      " 2   bathrooms       28418 non-null  float64\n",
      " 3   value_assessed  28417 non-null  float64\n",
      " 4   tax_amount      28417 non-null  float64\n",
      " 5   year_built      28322 non-null  float64\n",
      " 6   county_code     28418 non-null  float64\n",
      " 7   parcelid        28418 non-null  int64  \n",
      " 8   tax_rate        28416 non-null  float64\n",
      "dtypes: float64(8), int64(1)\n",
      "memory usage: 2.0 MB\n"
     ]
    }
   ],
   "source": [
    "df.info()"
   ]
  },
  {
   "cell_type": "raw",
   "metadata": {},
   "source": [
    "#change datatype from float to integer\n",
    "df['total_sqft'] = df['total_sqft'].astype(int)\n",
    "df['bedrooms'] = df['bedrooms'].astype(int)\n",
    "df['tax_amount'] = df['tax_amount'].astype(int)\n",
    "df['year_built'] = df['year_built'].astype(int)\n",
    "df['fips'] = df['fips'].astype(int)"
   ]
  },
  {
   "cell_type": "code",
   "execution_count": 10,
   "metadata": {},
   "outputs": [
    {
     "name": "stdout",
     "output_type": "stream",
     "text": [
      "<class 'pandas.core.frame.DataFrame'>\n",
      "RangeIndex: 28418 entries, 0 to 28417\n",
      "Data columns (total 9 columns):\n",
      " #   Column          Non-Null Count  Dtype  \n",
      "---  ------          --------------  -----  \n",
      " 0   total_sqft      28345 non-null  float64\n",
      " 1   bedrooms        28418 non-null  float64\n",
      " 2   bathrooms       28418 non-null  float64\n",
      " 3   value_assessed  28417 non-null  float64\n",
      " 4   tax_amount      28417 non-null  float64\n",
      " 5   year_built      28322 non-null  float64\n",
      " 6   county_code     28418 non-null  float64\n",
      " 7   parcelid        28418 non-null  int64  \n",
      " 8   tax_rate        28416 non-null  float64\n",
      "dtypes: float64(8), int64(1)\n",
      "memory usage: 2.0 MB\n"
     ]
    }
   ],
   "source": [
    "#28,418 entries\n",
    "df.info()"
   ]
  },
  {
   "cell_type": "code",
   "execution_count": 11,
   "metadata": {},
   "outputs": [],
   "source": [
    "#check for duplicates\n",
    "df.drop_duplicates(inplace=True)"
   ]
  },
  {
   "cell_type": "code",
   "execution_count": 12,
   "metadata": {},
   "outputs": [
    {
     "name": "stdout",
     "output_type": "stream",
     "text": [
      "<class 'pandas.core.frame.DataFrame'>\n",
      "Int64Index: 28392 entries, 0 to 28417\n",
      "Data columns (total 9 columns):\n",
      " #   Column          Non-Null Count  Dtype  \n",
      "---  ------          --------------  -----  \n",
      " 0   total_sqft      28321 non-null  float64\n",
      " 1   bedrooms        28392 non-null  float64\n",
      " 2   bathrooms       28392 non-null  float64\n",
      " 3   value_assessed  28391 non-null  float64\n",
      " 4   tax_amount      28391 non-null  float64\n",
      " 5   year_built      28298 non-null  float64\n",
      " 6   county_code     28392 non-null  float64\n",
      " 7   parcelid        28392 non-null  int64  \n",
      " 8   tax_rate        28390 non-null  float64\n",
      "dtypes: float64(8), int64(1)\n",
      "memory usage: 2.2 MB\n"
     ]
    }
   ],
   "source": [
    "#28,392 entries (removed 26 duplicates)\n",
    "df.info()"
   ]
  },
  {
   "cell_type": "code",
   "execution_count": 13,
   "metadata": {},
   "outputs": [
    {
     "data": {
      "text/html": [
       "<div>\n",
       "<style scoped>\n",
       "    .dataframe tbody tr th:only-of-type {\n",
       "        vertical-align: middle;\n",
       "    }\n",
       "\n",
       "    .dataframe tbody tr th {\n",
       "        vertical-align: top;\n",
       "    }\n",
       "\n",
       "    .dataframe thead th {\n",
       "        text-align: right;\n",
       "    }\n",
       "</style>\n",
       "<table border=\"1\" class=\"dataframe\">\n",
       "  <thead>\n",
       "    <tr style=\"text-align: right;\">\n",
       "      <th></th>\n",
       "      <th>total_sqft</th>\n",
       "      <th>bedrooms</th>\n",
       "      <th>bathrooms</th>\n",
       "      <th>value_assessed</th>\n",
       "      <th>tax_amount</th>\n",
       "      <th>year_built</th>\n",
       "      <th>county_code</th>\n",
       "      <th>parcelid</th>\n",
       "      <th>tax_rate</th>\n",
       "    </tr>\n",
       "  </thead>\n",
       "  <tbody>\n",
       "    <tr>\n",
       "      <th>0</th>\n",
       "      <td>1316.0</td>\n",
       "      <td>3.0</td>\n",
       "      <td>2.0</td>\n",
       "      <td>205123.0</td>\n",
       "      <td>2627.48</td>\n",
       "      <td>1923.0</td>\n",
       "      <td>6037.0</td>\n",
       "      <td>11721753</td>\n",
       "      <td>0.012809</td>\n",
       "    </tr>\n",
       "    <tr>\n",
       "      <th>1</th>\n",
       "      <td>1458.0</td>\n",
       "      <td>3.0</td>\n",
       "      <td>2.0</td>\n",
       "      <td>136104.0</td>\n",
       "      <td>2319.90</td>\n",
       "      <td>1970.0</td>\n",
       "      <td>6037.0</td>\n",
       "      <td>11289917</td>\n",
       "      <td>0.017045</td>\n",
       "    </tr>\n",
       "    <tr>\n",
       "      <th>2</th>\n",
       "      <td>1421.0</td>\n",
       "      <td>2.0</td>\n",
       "      <td>1.0</td>\n",
       "      <td>35606.0</td>\n",
       "      <td>543.69</td>\n",
       "      <td>1911.0</td>\n",
       "      <td>6037.0</td>\n",
       "      <td>11705026</td>\n",
       "      <td>0.015270</td>\n",
       "    </tr>\n",
       "    <tr>\n",
       "      <th>3</th>\n",
       "      <td>2541.0</td>\n",
       "      <td>4.0</td>\n",
       "      <td>3.0</td>\n",
       "      <td>880456.0</td>\n",
       "      <td>9819.72</td>\n",
       "      <td>2003.0</td>\n",
       "      <td>6059.0</td>\n",
       "      <td>14269464</td>\n",
       "      <td>0.011153</td>\n",
       "    </tr>\n",
       "    <tr>\n",
       "      <th>4</th>\n",
       "      <td>1491.0</td>\n",
       "      <td>3.0</td>\n",
       "      <td>2.0</td>\n",
       "      <td>107110.0</td>\n",
       "      <td>1399.27</td>\n",
       "      <td>1955.0</td>\n",
       "      <td>6037.0</td>\n",
       "      <td>11446756</td>\n",
       "      <td>0.013064</td>\n",
       "    </tr>\n",
       "    <tr>\n",
       "      <th>...</th>\n",
       "      <td>...</td>\n",
       "      <td>...</td>\n",
       "      <td>...</td>\n",
       "      <td>...</td>\n",
       "      <td>...</td>\n",
       "      <td>...</td>\n",
       "      <td>...</td>\n",
       "      <td>...</td>\n",
       "      <td>...</td>\n",
       "    </tr>\n",
       "    <tr>\n",
       "      <th>28413</th>\n",
       "      <td>2634.0</td>\n",
       "      <td>6.0</td>\n",
       "      <td>2.0</td>\n",
       "      <td>878190.0</td>\n",
       "      <td>12766.88</td>\n",
       "      <td>1921.0</td>\n",
       "      <td>6037.0</td>\n",
       "      <td>11991766</td>\n",
       "      <td>0.014538</td>\n",
       "    </tr>\n",
       "    <tr>\n",
       "      <th>28414</th>\n",
       "      <td>1187.0</td>\n",
       "      <td>4.0</td>\n",
       "      <td>1.5</td>\n",
       "      <td>465999.0</td>\n",
       "      <td>5552.68</td>\n",
       "      <td>1959.0</td>\n",
       "      <td>6059.0</td>\n",
       "      <td>14011468</td>\n",
       "      <td>0.011916</td>\n",
       "    </tr>\n",
       "    <tr>\n",
       "      <th>28415</th>\n",
       "      <td>3015.0</td>\n",
       "      <td>5.0</td>\n",
       "      <td>3.0</td>\n",
       "      <td>852813.0</td>\n",
       "      <td>11662.88</td>\n",
       "      <td>2002.0</td>\n",
       "      <td>6059.0</td>\n",
       "      <td>14453399</td>\n",
       "      <td>0.013676</td>\n",
       "    </tr>\n",
       "    <tr>\n",
       "      <th>28416</th>\n",
       "      <td>2992.0</td>\n",
       "      <td>5.0</td>\n",
       "      <td>3.0</td>\n",
       "      <td>1120000.0</td>\n",
       "      <td>13663.03</td>\n",
       "      <td>1977.0</td>\n",
       "      <td>6037.0</td>\n",
       "      <td>11128688</td>\n",
       "      <td>0.012199</td>\n",
       "    </tr>\n",
       "    <tr>\n",
       "      <th>28417</th>\n",
       "      <td>1574.0</td>\n",
       "      <td>3.0</td>\n",
       "      <td>3.0</td>\n",
       "      <td>563463.0</td>\n",
       "      <td>6903.66</td>\n",
       "      <td>1951.0</td>\n",
       "      <td>6037.0</td>\n",
       "      <td>10713993</td>\n",
       "      <td>0.012252</td>\n",
       "    </tr>\n",
       "  </tbody>\n",
       "</table>\n",
       "<p>28392 rows × 9 columns</p>\n",
       "</div>"
      ],
      "text/plain": [
       "       total_sqft  bedrooms  bathrooms  value_assessed  tax_amount  \\\n",
       "0          1316.0       3.0        2.0        205123.0     2627.48   \n",
       "1          1458.0       3.0        2.0        136104.0     2319.90   \n",
       "2          1421.0       2.0        1.0         35606.0      543.69   \n",
       "3          2541.0       4.0        3.0        880456.0     9819.72   \n",
       "4          1491.0       3.0        2.0        107110.0     1399.27   \n",
       "...           ...       ...        ...             ...         ...   \n",
       "28413      2634.0       6.0        2.0        878190.0    12766.88   \n",
       "28414      1187.0       4.0        1.5        465999.0     5552.68   \n",
       "28415      3015.0       5.0        3.0        852813.0    11662.88   \n",
       "28416      2992.0       5.0        3.0       1120000.0    13663.03   \n",
       "28417      1574.0       3.0        3.0        563463.0     6903.66   \n",
       "\n",
       "       year_built  county_code  parcelid  tax_rate  \n",
       "0          1923.0       6037.0  11721753  0.012809  \n",
       "1          1970.0       6037.0  11289917  0.017045  \n",
       "2          1911.0       6037.0  11705026  0.015270  \n",
       "3          2003.0       6059.0  14269464  0.011153  \n",
       "4          1955.0       6037.0  11446756  0.013064  \n",
       "...           ...          ...       ...       ...  \n",
       "28413      1921.0       6037.0  11991766  0.014538  \n",
       "28414      1959.0       6059.0  14011468  0.011916  \n",
       "28415      2002.0       6059.0  14453399  0.013676  \n",
       "28416      1977.0       6037.0  11128688  0.012199  \n",
       "28417      1951.0       6037.0  10713993  0.012252  \n",
       "\n",
       "[28392 rows x 9 columns]"
      ]
     },
     "execution_count": 13,
     "metadata": {},
     "output_type": "execute_result"
    }
   ],
   "source": [
    "# replace nan values\n",
    "df.replace(r'^\\s*$', np.nan, regex=True)"
   ]
  },
  {
   "cell_type": "code",
   "execution_count": 14,
   "metadata": {},
   "outputs": [
    {
     "data": {
      "text/html": [
       "<div>\n",
       "<style scoped>\n",
       "    .dataframe tbody tr th:only-of-type {\n",
       "        vertical-align: middle;\n",
       "    }\n",
       "\n",
       "    .dataframe tbody tr th {\n",
       "        vertical-align: top;\n",
       "    }\n",
       "\n",
       "    .dataframe thead th {\n",
       "        text-align: right;\n",
       "    }\n",
       "</style>\n",
       "<table border=\"1\" class=\"dataframe\">\n",
       "  <thead>\n",
       "    <tr style=\"text-align: right;\">\n",
       "      <th></th>\n",
       "      <th>total_sqft</th>\n",
       "      <th>bedrooms</th>\n",
       "      <th>bathrooms</th>\n",
       "      <th>value_assessed</th>\n",
       "      <th>tax_amount</th>\n",
       "      <th>year_built</th>\n",
       "      <th>county_code</th>\n",
       "      <th>parcelid</th>\n",
       "      <th>tax_rate</th>\n",
       "    </tr>\n",
       "  </thead>\n",
       "  <tbody>\n",
       "    <tr>\n",
       "      <th>0</th>\n",
       "      <td>1316.0</td>\n",
       "      <td>3.0</td>\n",
       "      <td>2.0</td>\n",
       "      <td>205123.0</td>\n",
       "      <td>2627.48</td>\n",
       "      <td>1923.0</td>\n",
       "      <td>6037.0</td>\n",
       "      <td>11721753</td>\n",
       "      <td>0.012809</td>\n",
       "    </tr>\n",
       "    <tr>\n",
       "      <th>1</th>\n",
       "      <td>1458.0</td>\n",
       "      <td>3.0</td>\n",
       "      <td>2.0</td>\n",
       "      <td>136104.0</td>\n",
       "      <td>2319.90</td>\n",
       "      <td>1970.0</td>\n",
       "      <td>6037.0</td>\n",
       "      <td>11289917</td>\n",
       "      <td>0.017045</td>\n",
       "    </tr>\n",
       "    <tr>\n",
       "      <th>2</th>\n",
       "      <td>1421.0</td>\n",
       "      <td>2.0</td>\n",
       "      <td>1.0</td>\n",
       "      <td>35606.0</td>\n",
       "      <td>543.69</td>\n",
       "      <td>1911.0</td>\n",
       "      <td>6037.0</td>\n",
       "      <td>11705026</td>\n",
       "      <td>0.015270</td>\n",
       "    </tr>\n",
       "    <tr>\n",
       "      <th>3</th>\n",
       "      <td>2541.0</td>\n",
       "      <td>4.0</td>\n",
       "      <td>3.0</td>\n",
       "      <td>880456.0</td>\n",
       "      <td>9819.72</td>\n",
       "      <td>2003.0</td>\n",
       "      <td>6059.0</td>\n",
       "      <td>14269464</td>\n",
       "      <td>0.011153</td>\n",
       "    </tr>\n",
       "    <tr>\n",
       "      <th>4</th>\n",
       "      <td>1491.0</td>\n",
       "      <td>3.0</td>\n",
       "      <td>2.0</td>\n",
       "      <td>107110.0</td>\n",
       "      <td>1399.27</td>\n",
       "      <td>1955.0</td>\n",
       "      <td>6037.0</td>\n",
       "      <td>11446756</td>\n",
       "      <td>0.013064</td>\n",
       "    </tr>\n",
       "    <tr>\n",
       "      <th>...</th>\n",
       "      <td>...</td>\n",
       "      <td>...</td>\n",
       "      <td>...</td>\n",
       "      <td>...</td>\n",
       "      <td>...</td>\n",
       "      <td>...</td>\n",
       "      <td>...</td>\n",
       "      <td>...</td>\n",
       "      <td>...</td>\n",
       "    </tr>\n",
       "    <tr>\n",
       "      <th>28413</th>\n",
       "      <td>2634.0</td>\n",
       "      <td>6.0</td>\n",
       "      <td>2.0</td>\n",
       "      <td>878190.0</td>\n",
       "      <td>12766.88</td>\n",
       "      <td>1921.0</td>\n",
       "      <td>6037.0</td>\n",
       "      <td>11991766</td>\n",
       "      <td>0.014538</td>\n",
       "    </tr>\n",
       "    <tr>\n",
       "      <th>28414</th>\n",
       "      <td>1187.0</td>\n",
       "      <td>4.0</td>\n",
       "      <td>1.5</td>\n",
       "      <td>465999.0</td>\n",
       "      <td>5552.68</td>\n",
       "      <td>1959.0</td>\n",
       "      <td>6059.0</td>\n",
       "      <td>14011468</td>\n",
       "      <td>0.011916</td>\n",
       "    </tr>\n",
       "    <tr>\n",
       "      <th>28415</th>\n",
       "      <td>3015.0</td>\n",
       "      <td>5.0</td>\n",
       "      <td>3.0</td>\n",
       "      <td>852813.0</td>\n",
       "      <td>11662.88</td>\n",
       "      <td>2002.0</td>\n",
       "      <td>6059.0</td>\n",
       "      <td>14453399</td>\n",
       "      <td>0.013676</td>\n",
       "    </tr>\n",
       "    <tr>\n",
       "      <th>28416</th>\n",
       "      <td>2992.0</td>\n",
       "      <td>5.0</td>\n",
       "      <td>3.0</td>\n",
       "      <td>1120000.0</td>\n",
       "      <td>13663.03</td>\n",
       "      <td>1977.0</td>\n",
       "      <td>6037.0</td>\n",
       "      <td>11128688</td>\n",
       "      <td>0.012199</td>\n",
       "    </tr>\n",
       "    <tr>\n",
       "      <th>28417</th>\n",
       "      <td>1574.0</td>\n",
       "      <td>3.0</td>\n",
       "      <td>3.0</td>\n",
       "      <td>563463.0</td>\n",
       "      <td>6903.66</td>\n",
       "      <td>1951.0</td>\n",
       "      <td>6037.0</td>\n",
       "      <td>10713993</td>\n",
       "      <td>0.012252</td>\n",
       "    </tr>\n",
       "  </tbody>\n",
       "</table>\n",
       "<p>28292 rows × 9 columns</p>\n",
       "</div>"
      ],
      "text/plain": [
       "       total_sqft  bedrooms  bathrooms  value_assessed  tax_amount  \\\n",
       "0          1316.0       3.0        2.0        205123.0     2627.48   \n",
       "1          1458.0       3.0        2.0        136104.0     2319.90   \n",
       "2          1421.0       2.0        1.0         35606.0      543.69   \n",
       "3          2541.0       4.0        3.0        880456.0     9819.72   \n",
       "4          1491.0       3.0        2.0        107110.0     1399.27   \n",
       "...           ...       ...        ...             ...         ...   \n",
       "28413      2634.0       6.0        2.0        878190.0    12766.88   \n",
       "28414      1187.0       4.0        1.5        465999.0     5552.68   \n",
       "28415      3015.0       5.0        3.0        852813.0    11662.88   \n",
       "28416      2992.0       5.0        3.0       1120000.0    13663.03   \n",
       "28417      1574.0       3.0        3.0        563463.0     6903.66   \n",
       "\n",
       "       year_built  county_code  parcelid  tax_rate  \n",
       "0          1923.0       6037.0  11721753  0.012809  \n",
       "1          1970.0       6037.0  11289917  0.017045  \n",
       "2          1911.0       6037.0  11705026  0.015270  \n",
       "3          2003.0       6059.0  14269464  0.011153  \n",
       "4          1955.0       6037.0  11446756  0.013064  \n",
       "...           ...          ...       ...       ...  \n",
       "28413      1921.0       6037.0  11991766  0.014538  \n",
       "28414      1959.0       6059.0  14011468  0.011916  \n",
       "28415      2002.0       6059.0  14453399  0.013676  \n",
       "28416      1977.0       6037.0  11128688  0.012199  \n",
       "28417      1951.0       6037.0  10713993  0.012252  \n",
       "\n",
       "[28292 rows x 9 columns]"
      ]
     },
     "execution_count": 14,
     "metadata": {},
     "output_type": "execute_result"
    }
   ],
   "source": [
    "#drop na values (100 na values)\n",
    "df.dropna()"
   ]
  },
  {
   "cell_type": "code",
   "execution_count": 15,
   "metadata": {},
   "outputs": [
    {
     "data": {
      "text/plain": [
       "total_sqft         4057\n",
       "bedrooms             13\n",
       "bathrooms            20\n",
       "value_assessed    22933\n",
       "tax_amount        27938\n",
       "year_built          131\n",
       "county_code           3\n",
       "parcelid          28392\n",
       "tax_rate          28352\n",
       "dtype: int64"
      ]
     },
     "execution_count": 15,
     "metadata": {},
     "output_type": "execute_result"
    }
   ],
   "source": [
    "df.nunique()"
   ]
  },
  {
   "cell_type": "code",
   "execution_count": 16,
   "metadata": {},
   "outputs": [
    {
     "data": {
      "image/png": "[encoded data removed]",
      "text/plain": [
       "<Figure size 432x288 with 1 Axes>"
      ]
     },
     "metadata": {
      "needs_background": "light"
     },
     "output_type": "display_data"
    }
   ],
   "source": [
    "sns.boxplot(data=df.bedrooms)\n",
    "plt.title('Bedroom Count')\n",
    "plt.show()\n",
    "\n",
    "#outliers can be seen here"
   ]
  },
  {
   "cell_type": "code",
   "execution_count": 17,
   "metadata": {},
   "outputs": [
    {
     "data": {
      "text/plain": [
       "count    28392.000000\n",
       "mean         3.297689\n",
       "std          0.950575\n",
       "min          0.000000\n",
       "25%          3.000000\n",
       "50%          3.000000\n",
       "75%          4.000000\n",
       "max         12.000000\n",
       "Name: bedrooms, dtype: float64"
      ]
     },
     "execution_count": 17,
     "metadata": {},
     "output_type": "execute_result"
    }
   ],
   "source": [
    "df.bedrooms.describe()"
   ]
  },
  {
   "cell_type": "code",
   "execution_count": 18,
   "metadata": {},
   "outputs": [
    {
     "data": {
      "text/plain": [
       "(1.0, 4.0, 3.0)"
      ]
     },
     "execution_count": 18,
     "metadata": {},
     "output_type": "execute_result"
    }
   ],
   "source": [
    "#finding IQR of bedrooms to find outliers\n",
    "q1_bed = df['bedrooms'].quantile(0.25)\n",
    "q3_bed = df['bedrooms'].quantile(0.75)\n",
    "iqr_bed = q3_bed - q1_bed\n",
    "iqr_bed, q3_bed, q1_bed"
   ]
  },
  {
   "cell_type": "code",
   "execution_count": 19,
   "metadata": {},
   "outputs": [
    {
     "name": "stdout",
     "output_type": "stream",
     "text": [
      "Lower bounds for bedroom count is: 1.5\n",
      "Upprt bounds for bedroom count is: 5.5\n"
     ]
    }
   ],
   "source": [
    "lowerbound_bed = q1_bed - (1.5 * iqr_bed)\n",
    "upperbound_bed = q3_bed + (1.5 * iqr_bed)\n",
    "print(f'Lower bounds for bedroom count is: {lowerbound_bed}')\n",
    "print(f'Upprt bounds for bedroom count is: {upperbound_bed}')"
   ]
  },
  {
   "cell_type": "code",
   "execution_count": 20,
   "metadata": {},
   "outputs": [],
   "source": [
    "#remove outliers for bedrooms\n",
    "df= df[df.bedrooms > lowerbound_bed]\n",
    "df= df[df.bedrooms < upperbound_bed]"
   ]
  },
  {
   "cell_type": "code",
   "execution_count": 21,
   "metadata": {},
   "outputs": [
    {
     "data": {
      "image/png": "[encoded data removed]",
      "text/plain": [
       "<Figure size 432x288 with 1 Axes>"
      ]
     },
     "metadata": {
      "needs_background": "light"
     },
     "output_type": "display_data"
    }
   ],
   "source": [
    "#show outliers have been removed\n",
    "sns.boxplot(data=df.bedrooms)\n",
    "plt.title('Bedroom Count')\n",
    "plt.show()"
   ]
  },
  {
   "cell_type": "code",
   "execution_count": 22,
   "metadata": {},
   "outputs": [
    {
     "data": {
      "text/plain": [
       "count    27552.000000\n",
       "mean         2.299942\n",
       "std          0.950726\n",
       "min          0.000000\n",
       "25%          2.000000\n",
       "50%          2.000000\n",
       "75%          3.000000\n",
       "max          8.000000\n",
       "Name: bathrooms, dtype: float64"
      ]
     },
     "execution_count": 22,
     "metadata": {},
     "output_type": "execute_result"
    }
   ],
   "source": [
    "#descriptive stats for bedrooms, help understand outliers\n",
    "df.bathrooms.describe()"
   ]
  },
  {
   "cell_type": "code",
   "execution_count": 23,
   "metadata": {},
   "outputs": [
    {
     "data": {
      "image/png": "[encoded data removed]",
      "text/plain": [
       "<Figure size 432x288 with 1 Axes>"
      ]
     },
     "metadata": {
      "needs_background": "light"
     },
     "output_type": "display_data"
    }
   ],
   "source": [
    "#visualize outliers\n",
    "sns.boxplot(data=df.bathrooms)\n",
    "plt.title('Bathroom Count')\n",
    "plt.show()"
   ]
  },
  {
   "cell_type": "code",
   "execution_count": 24,
   "metadata": {},
   "outputs": [
    {
     "data": {
      "text/plain": [
       "(1.0, 3.0, 2.0)"
      ]
     },
     "execution_count": 24,
     "metadata": {},
     "output_type": "execute_result"
    }
   ],
   "source": [
    "#finding IQR of bathrooms to find outliers\n",
    "q1_bath = df['bathrooms'].quantile(0.25)\n",
    "q3_bath = df['bathrooms'].quantile(0.75)\n",
    "iqr_bath = q3_bath - q1_bath\n",
    "\n",
    "iqr_bath, q3_bath, q1_bath"
   ]
  },
  {
   "cell_type": "code",
   "execution_count": 25,
   "metadata": {},
   "outputs": [
    {
     "name": "stdout",
     "output_type": "stream",
     "text": [
      "Lower bounds for bathroom count is: 0.5\n",
      "Upper bounds for bathroom count is: 4.5\n"
     ]
    }
   ],
   "source": [
    "lowerbound_bath = q1_bath - (1.5 * iqr_bath)\n",
    "upperbound_bath = q3_bath + (1.5 * iqr_bath)\n",
    "lowerbound_bath, upperbound_bath\n",
    "print(f'Lower bounds for bathroom count is: {lowerbound_bath}')\n",
    "print(f'Upper bounds for bathroom count is: {upperbound_bath}')"
   ]
  },
  {
   "cell_type": "code",
   "execution_count": 26,
   "metadata": {},
   "outputs": [],
   "source": [
    "#remove outliers for bathroom\n",
    "df= df[df.bathrooms > lowerbound_bath]\n",
    "df= df[df.bathrooms < upperbound_bath]"
   ]
  },
  {
   "cell_type": "code",
   "execution_count": 27,
   "metadata": {},
   "outputs": [
    {
     "data": {
      "image/png": "[encoded data removed]",
      "text/plain": [
       "<Figure size 432x288 with 1 Axes>"
      ]
     },
     "metadata": {
      "needs_background": "light"
     },
     "output_type": "display_data"
    }
   ],
   "source": [
    "#show outliers have been removed\n",
    "sns.boxplot(data=df.bathrooms)\n",
    "plt.title('Bathroom Count')\n",
    "plt.show()"
   ]
  },
  {
   "cell_type": "code",
   "execution_count": 28,
   "metadata": {},
   "outputs": [
    {
     "data": {
      "text/plain": [
       "count    2.649800e+04\n",
       "mean     4.617563e+05\n",
       "std      4.627476e+05\n",
       "min      1.000000e+03\n",
       "25%      1.922052e+05\n",
       "50%      3.654890e+05\n",
       "75%      5.839838e+05\n",
       "max      1.360010e+07\n",
       "Name: value_assessed, dtype: float64"
      ]
     },
     "execution_count": 28,
     "metadata": {},
     "output_type": "execute_result"
    }
   ],
   "source": [
    "df.value_assessed.describe()"
   ]
  },
  {
   "cell_type": "code",
   "execution_count": 29,
   "metadata": {},
   "outputs": [
    {
     "data": {
      "image/png": "[encoded data removed]",
      "text/plain": [
       "<Figure size 432x288 with 1 Axes>"
      ]
     },
     "metadata": {
      "needs_background": "light"
     },
     "output_type": "display_data"
    }
   ],
   "source": [
    "#taxvalue distribution\n",
    "sns.histplot(data=df.value_assessed)\n",
    "plt.title('Distribution of Tax Value')\n",
    "plt.show()"
   ]
  },
  {
   "cell_type": "code",
   "execution_count": 30,
   "metadata": {},
   "outputs": [
    {
     "data": {
      "text/plain": [
       "(391778.5, 583983.75, 192205.25)"
      ]
     },
     "execution_count": 30,
     "metadata": {},
     "output_type": "execute_result"
    }
   ],
   "source": [
    "#finding IQR of Tax Value to find outliers\n",
    "q1_tax = df['value_assessed'].quantile(0.25)\n",
    "q3_tax = df['value_assessed'].quantile(0.75)\n",
    "iqr_tax = q3_tax- q1_tax\n",
    "iqr_tax, q3_tax, q1_tax"
   ]
  },
  {
   "cell_type": "code",
   "execution_count": 31,
   "metadata": {},
   "outputs": [
    {
     "name": "stdout",
     "output_type": "stream",
     "text": [
      "Lower bounds for Assessed Value is: -395462.5\n",
      "Upper bounds for Assessed Value is: 1171651.5\n"
     ]
    }
   ],
   "source": [
    "lowerbound_tax = q1_tax - (1.5 * iqr_tax)\n",
    "upperbound_tax = q3_tax + (1.5 * iqr_tax)\n",
    "print(f'Lower bounds for Assessed Value is: {lowerbound_tax}')\n",
    "print(f'Upper bounds for Assessed Value is: {upperbound_tax}')"
   ]
  },
  {
   "cell_type": "code",
   "execution_count": 32,
   "metadata": {},
   "outputs": [],
   "source": [
    "#remove outliers for tax\n",
    "df= df[df.value_assessed > lowerbound_tax]\n",
    "df= df[df.value_assessed < upperbound_tax]"
   ]
  },
  {
   "cell_type": "code",
   "execution_count": 33,
   "metadata": {},
   "outputs": [
    {
     "data": {
      "image/png": "[encoded data removed]",
      "text/plain": [
       "<Figure size 432x288 with 1 Axes>"
      ]
     },
     "metadata": {
      "needs_background": "light"
     },
     "output_type": "display_data"
    }
   ],
   "source": [
    "#taxvalue with outliers removed\n",
    "sns.histplot(data=df.value_assessed)\n",
    "plt.title('Distribution of Tax Value')\n",
    "plt.show()"
   ]
  },
  {
   "cell_type": "code",
   "execution_count": 34,
   "metadata": {},
   "outputs": [
    {
     "data": {
      "text/plain": [
       "count    25160.000000\n",
       "mean      1750.539626\n",
       "std        669.447808\n",
       "min        326.000000\n",
       "25%       1253.750000\n",
       "50%       1600.000000\n",
       "75%       2119.000000\n",
       "max       6756.000000\n",
       "Name: total_sqft, dtype: float64"
      ]
     },
     "execution_count": 34,
     "metadata": {},
     "output_type": "execute_result"
    }
   ],
   "source": [
    "df.total_sqft.describe()"
   ]
  },
  {
   "cell_type": "code",
   "execution_count": 35,
   "metadata": {},
   "outputs": [
    {
     "data": {
      "image/png": "[encoded data removed]",
      "text/plain": [
       "<Figure size 432x288 with 1 Axes>"
      ]
     },
     "metadata": {
      "needs_background": "light"
     },
     "output_type": "display_data"
    }
   ],
   "source": [
    "#sqft distribution\n",
    "sns.histplot(data=df.total_sqft)\n",
    "plt.title('Distribution of Sqft')\n",
    "plt.show()"
   ]
  },
  {
   "cell_type": "code",
   "execution_count": 36,
   "metadata": {},
   "outputs": [
    {
     "data": {
      "text/plain": [
       "(865.25, 2119.0, 1253.75)"
      ]
     },
     "execution_count": 36,
     "metadata": {},
     "output_type": "execute_result"
    }
   ],
   "source": [
    "#finding IQR of Tax Value to find outliers\n",
    "q1_sqft = df['total_sqft'].quantile(0.25)\n",
    "q3_sqft = df['total_sqft'].quantile(0.75)\n",
    "iqr_sqft = q3_sqft - q1_sqft\n",
    "iqr_sqft, q3_sqft, q1_sqft"
   ]
  },
  {
   "cell_type": "code",
   "execution_count": 37,
   "metadata": {},
   "outputs": [
    {
     "name": "stdout",
     "output_type": "stream",
     "text": [
      "Lower bounds for Square Feet  is: -44.125\n",
      "Upper bounds for Square Feet is: 3416.875\n"
     ]
    }
   ],
   "source": [
    "lowerbound_sqft = q1_sqft - (1.5 * iqr_sqft)\n",
    "upperbound_sqft = q3_sqft + (1.5 * iqr_sqft)\n",
    "print(f'Lower bounds for Square Feet  is: {lowerbound_sqft}')\n",
    "print(f'Upper bounds for Square Feet is: {upperbound_sqft}')"
   ]
  },
  {
   "cell_type": "code",
   "execution_count": 38,
   "metadata": {},
   "outputs": [],
   "source": [
    "#remove outliers for sqft\n",
    "df= df[df.total_sqft > lowerbound_sqft]\n",
    "df= df[df.total_sqft < upperbound_sqft]"
   ]
  },
  {
   "cell_type": "code",
   "execution_count": 39,
   "metadata": {},
   "outputs": [
    {
     "data": {
      "image/png": "[encoded data removed]",
      "text/plain": [
       "<Figure size 432x288 with 1 Axes>"
      ]
     },
     "metadata": {
      "needs_background": "light"
     },
     "output_type": "display_data"
    }
   ],
   "source": [
    "#sqft distribution with outliers removed\n",
    "sns.histplot(data=df.total_sqft)\n",
    "plt.title('Distribution of Sqft')\n",
    "plt.show()"
   ]
  },
  {
   "cell_type": "code",
   "execution_count": 40,
   "metadata": {},
   "outputs": [
    {
     "data": {
      "text/plain": [
       "(24626, 9)"
      ]
     },
     "execution_count": 40,
     "metadata": {},
     "output_type": "execute_result"
    }
   ],
   "source": [
    "#shape after dropping outliers\n",
    "df.shape"
   ]
  },
  {
   "cell_type": "code",
   "execution_count": 41,
   "metadata": {},
   "outputs": [
    {
     "name": "stdout",
     "output_type": "stream",
     "text": [
      "<class 'pandas.core.frame.DataFrame'>\n",
      "Int64Index: 24626 entries, 0 to 28417\n",
      "Data columns (total 9 columns):\n",
      " #   Column          Non-Null Count  Dtype  \n",
      "---  ------          --------------  -----  \n",
      " 0   total_sqft      24626 non-null  float64\n",
      " 1   bedrooms        24626 non-null  float64\n",
      " 2   bathrooms       24626 non-null  float64\n",
      " 3   value_assessed  24626 non-null  float64\n",
      " 4   tax_amount      24625 non-null  float64\n",
      " 5   year_built      24613 non-null  float64\n",
      " 6   county_code     24626 non-null  float64\n",
      " 7   parcelid        24626 non-null  int64  \n",
      " 8   tax_rate        24625 non-null  float64\n",
      "dtypes: float64(8), int64(1)\n",
      "memory usage: 1.9 MB\n"
     ]
    }
   ],
   "source": [
    "df.info()"
   ]
  },
  {
   "cell_type": "code",
   "execution_count": 42,
   "metadata": {},
   "outputs": [
    {
     "name": "stdout",
     "output_type": "stream",
     "text": [
      "train -> (13790, 9)\n",
      "validate -> (5910, 9)\n",
      "test -> (4926, 9)\n"
     ]
    }
   ],
   "source": [
    "#split data\n",
    "train, validate, test = prepare.zillow_split(df)"
   ]
  },
  {
   "cell_type": "markdown",
   "metadata": {},
   "source": [
    "# Explore"
   ]
  },
  {
   "cell_type": "code",
   "execution_count": null,
   "metadata": {},
   "outputs": [],
   "source": []
  },
  {
   "cell_type": "code",
   "execution_count": null,
   "metadata": {},
   "outputs": [],
   "source": []
  },
  {
   "cell_type": "code",
   "execution_count": null,
   "metadata": {},
   "outputs": [],
   "source": []
  },
  {
   "cell_type": "code",
   "execution_count": 43,
   "metadata": {},
   "outputs": [],
   "source": [
    "#take a look at X_train\n"
   ]
  },
  {
   "cell_type": "code",
   "execution_count": null,
   "metadata": {},
   "outputs": [],
   "source": [
    "#scale data\n",
    "# - scale only sqft (only continuous variable)\n",
    "# - assessed value is target"
   ]
  },
  {
   "cell_type": "code",
   "execution_count": null,
   "metadata": {},
   "outputs": [],
   "source": [
    "#now take a look at X_train after being scaled (minmaxscaler)\n"
   ]
  },
  {
   "cell_type": "code",
   "execution_count": null,
   "metadata": {},
   "outputs": [],
   "source": [
    "y_train.describe()"
   ]
  },
  {
   "cell_type": "code",
   "execution_count": null,
   "metadata": {},
   "outputs": [],
   "source": [
    "y_train = pd.DataFrame(y_train)\n",
    "y_validate = pd.DataFrame(y_validate)"
   ]
  },
  {
   "cell_type": "code",
   "execution_count": null,
   "metadata": {},
   "outputs": [],
   "source": [
    "y_train.head()"
   ]
  },
  {
   "cell_type": "code",
   "execution_count": null,
   "metadata": {},
   "outputs": [],
   "source": [
    "#leave tax_rate out of model\n",
    "#cannot scale categorical variables"
   ]
  },
  {
   "cell_type": "code",
   "execution_count": null,
   "metadata": {},
   "outputs": [],
   "source": [
    "#feature engineering (rfe)\n",
    "## use on tax_rate \n",
    "\n",
    "# create new column - tax value per sqft?\n"
   ]
  }
 ],
 "metadata": {
  "kernelspec": {
   "display_name": "Python 3",
   "language": "python",
   "name": "python3"
  },
  "language_info": {
   "codemirror_mode": {
    "name": "ipython",
    "version": 3
   },
   "file_extension": ".py",
   "mimetype": "text/x-python",
   "name": "python",
   "nbconvert_exporter": "python",
   "pygments_lexer": "ipython3",
   "version": "3.8.5"
  }
 },
 "nbformat": 4,
 "nbformat_minor": 4
}
