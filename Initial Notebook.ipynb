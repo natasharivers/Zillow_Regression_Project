{
 "cells": [
  {
   "cell_type": "code",
   "execution_count": 1,
   "metadata": {},
   "outputs": [],
   "source": [
    "from env import host, user, password\n",
    "import acquire\n",
    "import prepare\n",
    "import wrangle"
   ]
  },
  {
   "cell_type": "code",
   "execution_count": 2,
   "metadata": {},
   "outputs": [],
   "source": [
    "import matplotlib.pyplot as plt\n",
    "import pandas as pd\n",
    "import seaborn as sns\n",
    "import numpy as np"
   ]
  },
  {
   "cell_type": "markdown",
   "metadata": {},
   "source": [
    "# Acquire"
   ]
  },
  {
   "cell_type": "code",
   "execution_count": 3,
   "metadata": {},
   "outputs": [],
   "source": [
    "def get_connection(db_name):\n",
    "    '''\n",
    "    This function uses my info from my env file to\n",
    "    create a connection url to access the Codeup db.\n",
    "    '''\n",
    "    from env import host, user, password\n",
    "    return f'mysql+pymysql://{user}:{password}@{host}/{db_name}'"
   ]
  },
  {
   "cell_type": "code",
   "execution_count": 4,
   "metadata": {},
   "outputs": [],
   "source": [
    "def get_zillow():\n",
    "    '''\n",
    "    This function reads in the Zillow data from the Codeup db\n",
    "    with properties_2017, predictions_2017 and propertylandusetype tables joined\n",
    "    returns: a pandas DataFrame \n",
    "    '''\n",
    "    \n",
    "    zp_query = '''\n",
    "    SELECT calculatedfinishedsquarefeet, bedroomcnt, bathroomcnt, taxvaluedollarcnt, taxamount, yearbuilt, fips\n",
    "    FROM properties_2017\n",
    "    JOIN predictions_2017 ON properties_2017.parcelid = predictions_2017.parcelid\n",
    "    JOIN propertylandusetype ON properties_2017.propertylandusetypeid= propertylandusetype.propertylandusetypeid\n",
    "    WHERE predictions_2017.transactiondate BETWEEN '2017-05-01' AND '2017-08-31' AND properties_2017.propertylandusetypeid IN (31, 46, 47, 260, 261, 262, 263, 264, 265, 268, 273, 274, 275, 276, 279);\n",
    "    '''\n",
    "    return pd.read_sql(zp_query, get_connection('zillow'))"
   ]
  },
  {
   "cell_type": "code",
   "execution_count": 5,
   "metadata": {},
   "outputs": [],
   "source": [
    "df = get_zillow()"
   ]
  },
  {
   "cell_type": "markdown",
   "metadata": {},
   "source": [
    "# Prepare"
   ]
  },
  {
   "cell_type": "code",
   "execution_count": 6,
   "metadata": {},
   "outputs": [
    {
     "data": {
      "text/html": [
       "<div>\n",
       "<style scoped>\n",
       "    .dataframe tbody tr th:only-of-type {\n",
       "        vertical-align: middle;\n",
       "    }\n",
       "\n",
       "    .dataframe tbody tr th {\n",
       "        vertical-align: top;\n",
       "    }\n",
       "\n",
       "    .dataframe thead th {\n",
       "        text-align: right;\n",
       "    }\n",
       "</style>\n",
       "<table border=\"1\" class=\"dataframe\">\n",
       "  <thead>\n",
       "    <tr style=\"text-align: right;\">\n",
       "      <th></th>\n",
       "      <th>calculatedfinishedsquarefeet</th>\n",
       "      <th>bedroomcnt</th>\n",
       "      <th>bathroomcnt</th>\n",
       "      <th>taxvaluedollarcnt</th>\n",
       "      <th>taxamount</th>\n",
       "      <th>yearbuilt</th>\n",
       "      <th>fips</th>\n",
       "    </tr>\n",
       "  </thead>\n",
       "  <tbody>\n",
       "    <tr>\n",
       "      <th>0</th>\n",
       "      <td>1316.0</td>\n",
       "      <td>3.0</td>\n",
       "      <td>2.0</td>\n",
       "      <td>205123.0</td>\n",
       "      <td>2627.48</td>\n",
       "      <td>1923.0</td>\n",
       "      <td>6037.0</td>\n",
       "    </tr>\n",
       "    <tr>\n",
       "      <th>1</th>\n",
       "      <td>1458.0</td>\n",
       "      <td>3.0</td>\n",
       "      <td>2.0</td>\n",
       "      <td>136104.0</td>\n",
       "      <td>2319.90</td>\n",
       "      <td>1970.0</td>\n",
       "      <td>6037.0</td>\n",
       "    </tr>\n",
       "    <tr>\n",
       "      <th>2</th>\n",
       "      <td>1421.0</td>\n",
       "      <td>2.0</td>\n",
       "      <td>1.0</td>\n",
       "      <td>35606.0</td>\n",
       "      <td>543.69</td>\n",
       "      <td>1911.0</td>\n",
       "      <td>6037.0</td>\n",
       "    </tr>\n",
       "    <tr>\n",
       "      <th>3</th>\n",
       "      <td>2541.0</td>\n",
       "      <td>4.0</td>\n",
       "      <td>3.0</td>\n",
       "      <td>880456.0</td>\n",
       "      <td>9819.72</td>\n",
       "      <td>2003.0</td>\n",
       "      <td>6059.0</td>\n",
       "    </tr>\n",
       "    <tr>\n",
       "      <th>4</th>\n",
       "      <td>1491.0</td>\n",
       "      <td>3.0</td>\n",
       "      <td>2.0</td>\n",
       "      <td>107110.0</td>\n",
       "      <td>1399.27</td>\n",
       "      <td>1955.0</td>\n",
       "      <td>6037.0</td>\n",
       "    </tr>\n",
       "  </tbody>\n",
       "</table>\n",
       "</div>"
      ],
      "text/plain": [
       "   calculatedfinishedsquarefeet  bedroomcnt  bathroomcnt  taxvaluedollarcnt  \\\n",
       "0                        1316.0         3.0          2.0           205123.0   \n",
       "1                        1458.0         3.0          2.0           136104.0   \n",
       "2                        1421.0         2.0          1.0            35606.0   \n",
       "3                        2541.0         4.0          3.0           880456.0   \n",
       "4                        1491.0         3.0          2.0           107110.0   \n",
       "\n",
       "   taxamount  yearbuilt    fips  \n",
       "0    2627.48     1923.0  6037.0  \n",
       "1    2319.90     1970.0  6037.0  \n",
       "2     543.69     1911.0  6037.0  \n",
       "3    9819.72     2003.0  6059.0  \n",
       "4    1399.27     1955.0  6037.0  "
      ]
     },
     "execution_count": 6,
     "metadata": {},
     "output_type": "execute_result"
    }
   ],
   "source": [
    "df.head()"
   ]
  },
  {
   "cell_type": "code",
   "execution_count": 7,
   "metadata": {},
   "outputs": [],
   "source": [
    "#calculate tax rate\n",
    "df['tax_rate'] =df['taxamount']/  df['taxvaluedollarcnt']"
   ]
  },
  {
   "cell_type": "code",
   "execution_count": 8,
   "metadata": {},
   "outputs": [
    {
     "name": "stdout",
     "output_type": "stream",
     "text": [
      "<class 'pandas.core.frame.DataFrame'>\n",
      "RangeIndex: 28418 entries, 0 to 28417\n",
      "Data columns (total 8 columns):\n",
      " #   Column                        Non-Null Count  Dtype  \n",
      "---  ------                        --------------  -----  \n",
      " 0   calculatedfinishedsquarefeet  28345 non-null  float64\n",
      " 1   bedroomcnt                    28418 non-null  float64\n",
      " 2   bathroomcnt                   28418 non-null  float64\n",
      " 3   taxvaluedollarcnt             28417 non-null  float64\n",
      " 4   taxamount                     28417 non-null  float64\n",
      " 5   yearbuilt                     28322 non-null  float64\n",
      " 6   fips                          28418 non-null  float64\n",
      " 7   tax_rate                      28416 non-null  float64\n",
      "dtypes: float64(8)\n",
      "memory usage: 1.7 MB\n"
     ]
    }
   ],
   "source": [
    "#28,418 entries\n",
    "df.info()"
   ]
  },
  {
   "cell_type": "code",
   "execution_count": 9,
   "metadata": {},
   "outputs": [],
   "source": [
    "#change datatype from float to integer\n",
    "#df['calculatedfinishedsquarefeet'] = df['calculatedfinishedsquarefeet'].astype(int)"
   ]
  },
  {
   "cell_type": "code",
   "execution_count": 10,
   "metadata": {},
   "outputs": [],
   "source": [
    "#check for duplicates\n",
    "df.drop_duplicates(inplace=True)"
   ]
  },
  {
   "cell_type": "code",
   "execution_count": 11,
   "metadata": {},
   "outputs": [
    {
     "name": "stdout",
     "output_type": "stream",
     "text": [
      "<class 'pandas.core.frame.DataFrame'>\n",
      "Int64Index: 28385 entries, 0 to 28417\n",
      "Data columns (total 8 columns):\n",
      " #   Column                        Non-Null Count  Dtype  \n",
      "---  ------                        --------------  -----  \n",
      " 0   calculatedfinishedsquarefeet  28314 non-null  float64\n",
      " 1   bedroomcnt                    28385 non-null  float64\n",
      " 2   bathroomcnt                   28385 non-null  float64\n",
      " 3   taxvaluedollarcnt             28384 non-null  float64\n",
      " 4   taxamount                     28384 non-null  float64\n",
      " 5   yearbuilt                     28291 non-null  float64\n",
      " 6   fips                          28385 non-null  float64\n",
      " 7   tax_rate                      28383 non-null  float64\n",
      "dtypes: float64(8)\n",
      "memory usage: 1.9 MB\n"
     ]
    }
   ],
   "source": [
    "#28,385 entries (removed 33 duplicates)\n",
    "df.info()"
   ]
  },
  {
   "cell_type": "code",
   "execution_count": 12,
   "metadata": {},
   "outputs": [
    {
     "data": {
      "text/html": [
       "<div>\n",
       "<style scoped>\n",
       "    .dataframe tbody tr th:only-of-type {\n",
       "        vertical-align: middle;\n",
       "    }\n",
       "\n",
       "    .dataframe tbody tr th {\n",
       "        vertical-align: top;\n",
       "    }\n",
       "\n",
       "    .dataframe thead th {\n",
       "        text-align: right;\n",
       "    }\n",
       "</style>\n",
       "<table border=\"1\" class=\"dataframe\">\n",
       "  <thead>\n",
       "    <tr style=\"text-align: right;\">\n",
       "      <th></th>\n",
       "      <th>calculatedfinishedsquarefeet</th>\n",
       "      <th>bedroomcnt</th>\n",
       "      <th>bathroomcnt</th>\n",
       "      <th>taxvaluedollarcnt</th>\n",
       "      <th>taxamount</th>\n",
       "      <th>yearbuilt</th>\n",
       "      <th>fips</th>\n",
       "      <th>tax_rate</th>\n",
       "    </tr>\n",
       "  </thead>\n",
       "  <tbody>\n",
       "    <tr>\n",
       "      <th>0</th>\n",
       "      <td>1316.0</td>\n",
       "      <td>3.0</td>\n",
       "      <td>2.0</td>\n",
       "      <td>205123.0</td>\n",
       "      <td>2627.48</td>\n",
       "      <td>1923.0</td>\n",
       "      <td>6037.0</td>\n",
       "      <td>0.012809</td>\n",
       "    </tr>\n",
       "    <tr>\n",
       "      <th>1</th>\n",
       "      <td>1458.0</td>\n",
       "      <td>3.0</td>\n",
       "      <td>2.0</td>\n",
       "      <td>136104.0</td>\n",
       "      <td>2319.90</td>\n",
       "      <td>1970.0</td>\n",
       "      <td>6037.0</td>\n",
       "      <td>0.017045</td>\n",
       "    </tr>\n",
       "    <tr>\n",
       "      <th>2</th>\n",
       "      <td>1421.0</td>\n",
       "      <td>2.0</td>\n",
       "      <td>1.0</td>\n",
       "      <td>35606.0</td>\n",
       "      <td>543.69</td>\n",
       "      <td>1911.0</td>\n",
       "      <td>6037.0</td>\n",
       "      <td>0.015270</td>\n",
       "    </tr>\n",
       "    <tr>\n",
       "      <th>3</th>\n",
       "      <td>2541.0</td>\n",
       "      <td>4.0</td>\n",
       "      <td>3.0</td>\n",
       "      <td>880456.0</td>\n",
       "      <td>9819.72</td>\n",
       "      <td>2003.0</td>\n",
       "      <td>6059.0</td>\n",
       "      <td>0.011153</td>\n",
       "    </tr>\n",
       "    <tr>\n",
       "      <th>4</th>\n",
       "      <td>1491.0</td>\n",
       "      <td>3.0</td>\n",
       "      <td>2.0</td>\n",
       "      <td>107110.0</td>\n",
       "      <td>1399.27</td>\n",
       "      <td>1955.0</td>\n",
       "      <td>6037.0</td>\n",
       "      <td>0.013064</td>\n",
       "    </tr>\n",
       "    <tr>\n",
       "      <th>...</th>\n",
       "      <td>...</td>\n",
       "      <td>...</td>\n",
       "      <td>...</td>\n",
       "      <td>...</td>\n",
       "      <td>...</td>\n",
       "      <td>...</td>\n",
       "      <td>...</td>\n",
       "      <td>...</td>\n",
       "    </tr>\n",
       "    <tr>\n",
       "      <th>28413</th>\n",
       "      <td>2634.0</td>\n",
       "      <td>6.0</td>\n",
       "      <td>2.0</td>\n",
       "      <td>878190.0</td>\n",
       "      <td>12766.88</td>\n",
       "      <td>1921.0</td>\n",
       "      <td>6037.0</td>\n",
       "      <td>0.014538</td>\n",
       "    </tr>\n",
       "    <tr>\n",
       "      <th>28414</th>\n",
       "      <td>1187.0</td>\n",
       "      <td>4.0</td>\n",
       "      <td>1.5</td>\n",
       "      <td>465999.0</td>\n",
       "      <td>5552.68</td>\n",
       "      <td>1959.0</td>\n",
       "      <td>6059.0</td>\n",
       "      <td>0.011916</td>\n",
       "    </tr>\n",
       "    <tr>\n",
       "      <th>28415</th>\n",
       "      <td>3015.0</td>\n",
       "      <td>5.0</td>\n",
       "      <td>3.0</td>\n",
       "      <td>852813.0</td>\n",
       "      <td>11662.88</td>\n",
       "      <td>2002.0</td>\n",
       "      <td>6059.0</td>\n",
       "      <td>0.013676</td>\n",
       "    </tr>\n",
       "    <tr>\n",
       "      <th>28416</th>\n",
       "      <td>2992.0</td>\n",
       "      <td>5.0</td>\n",
       "      <td>3.0</td>\n",
       "      <td>1120000.0</td>\n",
       "      <td>13663.03</td>\n",
       "      <td>1977.0</td>\n",
       "      <td>6037.0</td>\n",
       "      <td>0.012199</td>\n",
       "    </tr>\n",
       "    <tr>\n",
       "      <th>28417</th>\n",
       "      <td>1574.0</td>\n",
       "      <td>3.0</td>\n",
       "      <td>3.0</td>\n",
       "      <td>563463.0</td>\n",
       "      <td>6903.66</td>\n",
       "      <td>1951.0</td>\n",
       "      <td>6037.0</td>\n",
       "      <td>0.012252</td>\n",
       "    </tr>\n",
       "  </tbody>\n",
       "</table>\n",
       "<p>28385 rows × 8 columns</p>\n",
       "</div>"
      ],
      "text/plain": [
       "       calculatedfinishedsquarefeet  bedroomcnt  bathroomcnt  \\\n",
       "0                            1316.0         3.0          2.0   \n",
       "1                            1458.0         3.0          2.0   \n",
       "2                            1421.0         2.0          1.0   \n",
       "3                            2541.0         4.0          3.0   \n",
       "4                            1491.0         3.0          2.0   \n",
       "...                             ...         ...          ...   \n",
       "28413                        2634.0         6.0          2.0   \n",
       "28414                        1187.0         4.0          1.5   \n",
       "28415                        3015.0         5.0          3.0   \n",
       "28416                        2992.0         5.0          3.0   \n",
       "28417                        1574.0         3.0          3.0   \n",
       "\n",
       "       taxvaluedollarcnt  taxamount  yearbuilt    fips  tax_rate  \n",
       "0               205123.0    2627.48     1923.0  6037.0  0.012809  \n",
       "1               136104.0    2319.90     1970.0  6037.0  0.017045  \n",
       "2                35606.0     543.69     1911.0  6037.0  0.015270  \n",
       "3               880456.0    9819.72     2003.0  6059.0  0.011153  \n",
       "4               107110.0    1399.27     1955.0  6037.0  0.013064  \n",
       "...                  ...        ...        ...     ...       ...  \n",
       "28413           878190.0   12766.88     1921.0  6037.0  0.014538  \n",
       "28414           465999.0    5552.68     1959.0  6059.0  0.011916  \n",
       "28415           852813.0   11662.88     2002.0  6059.0  0.013676  \n",
       "28416          1120000.0   13663.03     1977.0  6037.0  0.012199  \n",
       "28417           563463.0    6903.66     1951.0  6037.0  0.012252  \n",
       "\n",
       "[28385 rows x 8 columns]"
      ]
     },
     "execution_count": 12,
     "metadata": {},
     "output_type": "execute_result"
    }
   ],
   "source": [
    "# replace nan values\n",
    "df.replace(r'^\\s*$', np.nan, regex=True)"
   ]
  },
  {
   "cell_type": "code",
   "execution_count": 13,
   "metadata": {},
   "outputs": [
    {
     "data": {
      "text/html": [
       "<div>\n",
       "<style scoped>\n",
       "    .dataframe tbody tr th:only-of-type {\n",
       "        vertical-align: middle;\n",
       "    }\n",
       "\n",
       "    .dataframe tbody tr th {\n",
       "        vertical-align: top;\n",
       "    }\n",
       "\n",
       "    .dataframe thead th {\n",
       "        text-align: right;\n",
       "    }\n",
       "</style>\n",
       "<table border=\"1\" class=\"dataframe\">\n",
       "  <thead>\n",
       "    <tr style=\"text-align: right;\">\n",
       "      <th></th>\n",
       "      <th>calculatedfinishedsquarefeet</th>\n",
       "      <th>bedroomcnt</th>\n",
       "      <th>bathroomcnt</th>\n",
       "      <th>taxvaluedollarcnt</th>\n",
       "      <th>taxamount</th>\n",
       "      <th>yearbuilt</th>\n",
       "      <th>fips</th>\n",
       "      <th>tax_rate</th>\n",
       "    </tr>\n",
       "  </thead>\n",
       "  <tbody>\n",
       "    <tr>\n",
       "      <th>0</th>\n",
       "      <td>1316.0</td>\n",
       "      <td>3.0</td>\n",
       "      <td>2.0</td>\n",
       "      <td>205123.0</td>\n",
       "      <td>2627.48</td>\n",
       "      <td>1923.0</td>\n",
       "      <td>6037.0</td>\n",
       "      <td>0.012809</td>\n",
       "    </tr>\n",
       "    <tr>\n",
       "      <th>1</th>\n",
       "      <td>1458.0</td>\n",
       "      <td>3.0</td>\n",
       "      <td>2.0</td>\n",
       "      <td>136104.0</td>\n",
       "      <td>2319.90</td>\n",
       "      <td>1970.0</td>\n",
       "      <td>6037.0</td>\n",
       "      <td>0.017045</td>\n",
       "    </tr>\n",
       "    <tr>\n",
       "      <th>2</th>\n",
       "      <td>1421.0</td>\n",
       "      <td>2.0</td>\n",
       "      <td>1.0</td>\n",
       "      <td>35606.0</td>\n",
       "      <td>543.69</td>\n",
       "      <td>1911.0</td>\n",
       "      <td>6037.0</td>\n",
       "      <td>0.015270</td>\n",
       "    </tr>\n",
       "    <tr>\n",
       "      <th>3</th>\n",
       "      <td>2541.0</td>\n",
       "      <td>4.0</td>\n",
       "      <td>3.0</td>\n",
       "      <td>880456.0</td>\n",
       "      <td>9819.72</td>\n",
       "      <td>2003.0</td>\n",
       "      <td>6059.0</td>\n",
       "      <td>0.011153</td>\n",
       "    </tr>\n",
       "    <tr>\n",
       "      <th>4</th>\n",
       "      <td>1491.0</td>\n",
       "      <td>3.0</td>\n",
       "      <td>2.0</td>\n",
       "      <td>107110.0</td>\n",
       "      <td>1399.27</td>\n",
       "      <td>1955.0</td>\n",
       "      <td>6037.0</td>\n",
       "      <td>0.013064</td>\n",
       "    </tr>\n",
       "    <tr>\n",
       "      <th>...</th>\n",
       "      <td>...</td>\n",
       "      <td>...</td>\n",
       "      <td>...</td>\n",
       "      <td>...</td>\n",
       "      <td>...</td>\n",
       "      <td>...</td>\n",
       "      <td>...</td>\n",
       "      <td>...</td>\n",
       "    </tr>\n",
       "    <tr>\n",
       "      <th>28413</th>\n",
       "      <td>2634.0</td>\n",
       "      <td>6.0</td>\n",
       "      <td>2.0</td>\n",
       "      <td>878190.0</td>\n",
       "      <td>12766.88</td>\n",
       "      <td>1921.0</td>\n",
       "      <td>6037.0</td>\n",
       "      <td>0.014538</td>\n",
       "    </tr>\n",
       "    <tr>\n",
       "      <th>28414</th>\n",
       "      <td>1187.0</td>\n",
       "      <td>4.0</td>\n",
       "      <td>1.5</td>\n",
       "      <td>465999.0</td>\n",
       "      <td>5552.68</td>\n",
       "      <td>1959.0</td>\n",
       "      <td>6059.0</td>\n",
       "      <td>0.011916</td>\n",
       "    </tr>\n",
       "    <tr>\n",
       "      <th>28415</th>\n",
       "      <td>3015.0</td>\n",
       "      <td>5.0</td>\n",
       "      <td>3.0</td>\n",
       "      <td>852813.0</td>\n",
       "      <td>11662.88</td>\n",
       "      <td>2002.0</td>\n",
       "      <td>6059.0</td>\n",
       "      <td>0.013676</td>\n",
       "    </tr>\n",
       "    <tr>\n",
       "      <th>28416</th>\n",
       "      <td>2992.0</td>\n",
       "      <td>5.0</td>\n",
       "      <td>3.0</td>\n",
       "      <td>1120000.0</td>\n",
       "      <td>13663.03</td>\n",
       "      <td>1977.0</td>\n",
       "      <td>6037.0</td>\n",
       "      <td>0.012199</td>\n",
       "    </tr>\n",
       "    <tr>\n",
       "      <th>28417</th>\n",
       "      <td>1574.0</td>\n",
       "      <td>3.0</td>\n",
       "      <td>3.0</td>\n",
       "      <td>563463.0</td>\n",
       "      <td>6903.66</td>\n",
       "      <td>1951.0</td>\n",
       "      <td>6037.0</td>\n",
       "      <td>0.012252</td>\n",
       "    </tr>\n",
       "  </tbody>\n",
       "</table>\n",
       "<p>28285 rows × 8 columns</p>\n",
       "</div>"
      ],
      "text/plain": [
       "       calculatedfinishedsquarefeet  bedroomcnt  bathroomcnt  \\\n",
       "0                            1316.0         3.0          2.0   \n",
       "1                            1458.0         3.0          2.0   \n",
       "2                            1421.0         2.0          1.0   \n",
       "3                            2541.0         4.0          3.0   \n",
       "4                            1491.0         3.0          2.0   \n",
       "...                             ...         ...          ...   \n",
       "28413                        2634.0         6.0          2.0   \n",
       "28414                        1187.0         4.0          1.5   \n",
       "28415                        3015.0         5.0          3.0   \n",
       "28416                        2992.0         5.0          3.0   \n",
       "28417                        1574.0         3.0          3.0   \n",
       "\n",
       "       taxvaluedollarcnt  taxamount  yearbuilt    fips  tax_rate  \n",
       "0               205123.0    2627.48     1923.0  6037.0  0.012809  \n",
       "1               136104.0    2319.90     1970.0  6037.0  0.017045  \n",
       "2                35606.0     543.69     1911.0  6037.0  0.015270  \n",
       "3               880456.0    9819.72     2003.0  6059.0  0.011153  \n",
       "4               107110.0    1399.27     1955.0  6037.0  0.013064  \n",
       "...                  ...        ...        ...     ...       ...  \n",
       "28413           878190.0   12766.88     1921.0  6037.0  0.014538  \n",
       "28414           465999.0    5552.68     1959.0  6059.0  0.011916  \n",
       "28415           852813.0   11662.88     2002.0  6059.0  0.013676  \n",
       "28416          1120000.0   13663.03     1977.0  6037.0  0.012199  \n",
       "28417           563463.0    6903.66     1951.0  6037.0  0.012252  \n",
       "\n",
       "[28285 rows x 8 columns]"
      ]
     },
     "execution_count": 13,
     "metadata": {},
     "output_type": "execute_result"
    }
   ],
   "source": [
    "#drop na values (100 na values)\n",
    "df.dropna()"
   ]
  },
  {
   "cell_type": "code",
   "execution_count": 14,
   "metadata": {},
   "outputs": [
    {
     "data": {
      "text/plain": [
       "calculatedfinishedsquarefeet     4057\n",
       "bedroomcnt                         13\n",
       "bathroomcnt                        20\n",
       "taxvaluedollarcnt               22933\n",
       "taxamount                       27938\n",
       "yearbuilt                         131\n",
       "fips                                3\n",
       "tax_rate                        28352\n",
       "dtype: int64"
      ]
     },
     "execution_count": 14,
     "metadata": {},
     "output_type": "execute_result"
    }
   ],
   "source": [
    "df.nunique()"
   ]
  },
  {
   "cell_type": "code",
   "execution_count": 15,
   "metadata": {},
   "outputs": [
    {
     "data": {
      "image/png": "[encoded data removed]",
      "text/plain": [
       "<Figure size 432x288 with 1 Axes>"
      ]
     },
     "metadata": {
      "needs_background": "light"
     },
     "output_type": "display_data"
    }
   ],
   "source": [
    "sns.boxplot(data=df.bedroomcnt)\n",
    "plt.title('Bedroom Count')\n",
    "plt.show()\n",
    "\n",
    "#outliers can be seen here"
   ]
  },
  {
   "cell_type": "code",
   "execution_count": 16,
   "metadata": {},
   "outputs": [
    {
     "data": {
      "text/plain": [
       "count    28385.000000\n",
       "mean         3.297939\n",
       "std          0.950496\n",
       "min          0.000000\n",
       "25%          3.000000\n",
       "50%          3.000000\n",
       "75%          4.000000\n",
       "max         12.000000\n",
       "Name: bedroomcnt, dtype: float64"
      ]
     },
     "execution_count": 16,
     "metadata": {},
     "output_type": "execute_result"
    }
   ],
   "source": [
    "df.bedroomcnt.describe()"
   ]
  },
  {
   "cell_type": "code",
   "execution_count": 17,
   "metadata": {},
   "outputs": [
    {
     "data": {
      "text/plain": [
       "(1.0, 4.0, 3.0)"
      ]
     },
     "execution_count": 17,
     "metadata": {},
     "output_type": "execute_result"
    }
   ],
   "source": [
    "#finding IQR of bedrooms to find outliers\n",
    "Q1 = df['bedroomcnt'].quantile(0.25)\n",
    "Q3 = df['bedroomcnt'].quantile(0.75)\n",
    "IQR = Q3 - Q1\n",
    "IQR, Q3, Q1"
   ]
  },
  {
   "cell_type": "code",
   "execution_count": 18,
   "metadata": {},
   "outputs": [
    {
     "data": {
      "image/png": "[encoded data removed]",
      "text/plain": [
       "<Figure size 432x288 with 1 Axes>"
      ]
     },
     "metadata": {
      "needs_background": "light"
     },
     "output_type": "display_data"
    }
   ],
   "source": [
    "sns.boxplot(data=df.bathroomcnt)\n",
    "plt.title('Bathroom Count')\n",
    "plt.show()"
   ]
  },
  {
   "cell_type": "code",
   "execution_count": 19,
   "metadata": {},
   "outputs": [
    {
     "data": {
      "text/plain": [
       "count    28385.000000\n",
       "mean         2.311027\n",
       "std          1.016924\n",
       "min          0.000000\n",
       "25%          2.000000\n",
       "50%          2.000000\n",
       "75%          3.000000\n",
       "max         11.000000\n",
       "Name: bathroomcnt, dtype: float64"
      ]
     },
     "execution_count": 19,
     "metadata": {},
     "output_type": "execute_result"
    }
   ],
   "source": [
    "df.bathroomcnt.describe()"
   ]
  },
  {
   "cell_type": "code",
   "execution_count": 20,
   "metadata": {},
   "outputs": [
    {
     "data": {
      "text/plain": [
       "(1.0, 3.0, 2.0)"
      ]
     },
     "execution_count": 20,
     "metadata": {},
     "output_type": "execute_result"
    }
   ],
   "source": [
    "#finding IQR of bathrooms to find outliers\n",
    "Q1 = df['bathroomcnt'].quantile(0.25)\n",
    "Q3 = df['bathroomcnt'].quantile(0.75)\n",
    "IQR = Q3 - Q1\n",
    "IQR, Q3, Q1"
   ]
  },
  {
   "cell_type": "code",
   "execution_count": 21,
   "metadata": {},
   "outputs": [
    {
     "data": {
      "image/png": "[encoded data removed]",
      "text/plain": [
       "<Figure size 432x288 with 1 Axes>"
      ]
     },
     "metadata": {
      "needs_background": "light"
     },
     "output_type": "display_data"
    }
   ],
   "source": [
    "#taxvalue distribution\n",
    "sns.histplot(data=df.taxvaluedollarcnt)\n",
    "plt.title('Distribution of Tax Value')\n",
    "plt.show()"
   ]
  },
  {
   "cell_type": "code",
   "execution_count": 22,
   "metadata": {},
   "outputs": [
    {
     "data": {
      "text/plain": [
       "count    2.838400e+04\n",
       "mean     5.328620e+05\n",
       "std      7.052775e+05\n",
       "min      1.000000e+03\n",
       "25%      1.983520e+05\n",
       "50%      3.807325e+05\n",
       "75%      6.298532e+05\n",
       "max      2.385837e+07\n",
       "Name: taxvaluedollarcnt, dtype: float64"
      ]
     },
     "execution_count": 22,
     "metadata": {},
     "output_type": "execute_result"
    }
   ],
   "source": [
    "df.taxvaluedollarcnt.describe()"
   ]
  },
  {
   "cell_type": "code",
   "execution_count": 23,
   "metadata": {},
   "outputs": [
    {
     "data": {
      "text/plain": [
       "(431501.25, 629853.25, 198352.0)"
      ]
     },
     "execution_count": 23,
     "metadata": {},
     "output_type": "execute_result"
    }
   ],
   "source": [
    "#finding IQR of Tax Value to find outliers\n",
    "Q1 = df['taxvaluedollarcnt'].quantile(0.25)\n",
    "Q3 = df['taxvaluedollarcnt'].quantile(0.75)\n",
    "IQR = Q3 - Q1\n",
    "IQR, Q3, Q1"
   ]
  },
  {
   "cell_type": "code",
   "execution_count": 24,
   "metadata": {},
   "outputs": [
    {
     "data": {
      "image/png": "[encoded data removed]",
      "text/plain": [
       "<Figure size 432x288 with 1 Axes>"
      ]
     },
     "metadata": {
      "needs_background": "light"
     },
     "output_type": "display_data"
    }
   ],
   "source": [
    "#sqft distribution\n",
    "sns.histplot(data=df.calculatedfinishedsquarefeet)\n",
    "plt.title('Distribution of Sqft')\n",
    "plt.show()"
   ]
  },
  {
   "cell_type": "code",
   "execution_count": 25,
   "metadata": {},
   "outputs": [
    {
     "data": {
      "text/plain": [
       "count    28314.000000\n",
       "mean      1931.298156\n",
       "std       1012.060652\n",
       "min        240.000000\n",
       "25%       1277.000000\n",
       "50%       1669.000000\n",
       "75%       2319.000000\n",
       "max      35640.000000\n",
       "Name: calculatedfinishedsquarefeet, dtype: float64"
      ]
     },
     "execution_count": 25,
     "metadata": {},
     "output_type": "execute_result"
    }
   ],
   "source": [
    "df.calculatedfinishedsquarefeet.describe()"
   ]
  },
  {
   "cell_type": "code",
   "execution_count": 26,
   "metadata": {},
   "outputs": [
    {
     "data": {
      "text/plain": [
       "(1042.0, 2319.0, 1277.0)"
      ]
     },
     "execution_count": 26,
     "metadata": {},
     "output_type": "execute_result"
    }
   ],
   "source": [
    "#finding IQR of Tax Value to find outliers\n",
    "Q1 = df['calculatedfinishedsquarefeet'].quantile(0.25)\n",
    "Q3 = df['calculatedfinishedsquarefeet'].quantile(0.75)\n",
    "IQR = Q3 - Q1\n",
    "IQR, Q3, Q1"
   ]
  },
  {
   "cell_type": "code",
   "execution_count": 27,
   "metadata": {},
   "outputs": [],
   "source": [
    "#split \n"
   ]
  },
  {
   "cell_type": "code",
   "execution_count": 28,
   "metadata": {},
   "outputs": [],
   "source": [
    "#take a look at X_train\n"
   ]
  },
  {
   "cell_type": "code",
   "execution_count": 29,
   "metadata": {},
   "outputs": [],
   "source": [
    "#scale data\n"
   ]
  },
  {
   "cell_type": "code",
   "execution_count": 30,
   "metadata": {},
   "outputs": [],
   "source": [
    "#now take a look at X_train after being scaled (minmaxscaler)\n"
   ]
  },
  {
   "cell_type": "markdown",
   "metadata": {},
   "source": [
    "# Explore"
   ]
  },
  {
   "cell_type": "code",
   "execution_count": 31,
   "metadata": {},
   "outputs": [
    {
     "ename": "NameError",
     "evalue": "name 'y_train' is not defined",
     "output_type": "error",
     "traceback": [
      "\u001b[0;31m---------------------------------------------------------------------------\u001b[0m",
      "\u001b[0;31mNameError\u001b[0m                                 Traceback (most recent call last)",
      "\u001b[0;32m<ipython-input-31-d37bd38f76d6>\u001b[0m in \u001b[0;36m<module>\u001b[0;34m\u001b[0m\n\u001b[0;32m----> 1\u001b[0;31m \u001b[0my_train\u001b[0m\u001b[0;34m.\u001b[0m\u001b[0mdescribe\u001b[0m\u001b[0;34m(\u001b[0m\u001b[0;34m)\u001b[0m\u001b[0;34m\u001b[0m\u001b[0;34m\u001b[0m\u001b[0m\n\u001b[0m",
      "\u001b[0;31mNameError\u001b[0m: name 'y_train' is not defined"
     ]
    }
   ],
   "source": [
    "y_train.describe()"
   ]
  },
  {
   "cell_type": "code",
   "execution_count": null,
   "metadata": {},
   "outputs": [],
   "source": [
    "y_train = pd.DataFrame(y_train)\n",
    "y_validate = pd.DataFrame(y_validate)"
   ]
  },
  {
   "cell_type": "code",
   "execution_count": null,
   "metadata": {},
   "outputs": [],
   "source": [
    "y_train.head()"
   ]
  },
  {
   "cell_type": "code",
   "execution_count": null,
   "metadata": {},
   "outputs": [],
   "source": []
  }
 ],
 "metadata": {
  "kernelspec": {
   "display_name": "Python 3",
   "language": "python",
   "name": "python3"
  },
  "language_info": {
   "codemirror_mode": {
    "name": "ipython",
    "version": 3
   },
   "file_extension": ".py",
   "mimetype": "text/x-python",
   "name": "python",
   "nbconvert_exporter": "python",
   "pygments_lexer": "ipython3",
   "version": "3.8.5"
  }
 },
 "nbformat": 4,
 "nbformat_minor": 4
}
